{
 "cells": [
  {
   "cell_type": "markdown",
   "metadata": {},
   "source": [
    "cSMC"
   ]
  },
  {
   "cell_type": "code",
   "execution_count": 1,
   "metadata": {},
   "outputs": [],
   "source": [
    "import jax.numpy as jnp\n",
    "from jax import random\n",
    "from jax import grad, vmap, jit\n",
    "from matplotlib import pyplot as plt\n",
    "import seaborn as sns\n",
    "from jax.config import config; config.update(\"jax_enable_x64\", True)\n",
    "from jax.scipy.stats import multivariate_normal\n",
    "from melange.gaussians import unnormalized_Normal_logp\n",
    "%matplotlib inline"
   ]
  },
  {
   "cell_type": "markdown",
   "metadata": {},
   "source": [
    "as a test, i am going to anneal between two gaussians centered at zero over 10 steps. the prior has a variance of 2 and the posterior has a variance of 1.\n",
    "\n"
   ]
  },
  {
   "cell_type": "code",
   "execution_count": 2,
   "metadata": {},
   "outputs": [
    {
     "name": "stderr",
     "output_type": "stream",
     "text": [
      "DEBUG:absl:Initializing backend 'interpreter'\n",
      "DEBUG:absl:Initializing backend 'cpu'\n",
      "DEBUG:absl:Initializing backend 'gpu'\n",
      "DEBUG:absl:Error initializing backend 'gpu': Not found: Could not find registered platform with name: \"cuda\". Available platform names are: Interpreter Host\n",
      "/home/dominic/anaconda3/envs/openmm/lib/python3.6/site-packages/jax/lib/xla_bridge.py:130: UserWarning: No GPU/TPU found, falling back to CPU.\n",
      "  warnings.warn('No GPU/TPU found, falling back to CPU.')\n",
      "Level 9:absl:get_compile_options: num_replicas=1 num_partitions=1 device_assignment=(0,)\n",
      "DEBUG:absl:Compiling _where for args (ShapedArray(bool[1,1]), ShapedArray(float64[1]), ShapedArray(float64[1])).\n",
      "Level 9:absl:get_compile_options: num_replicas=1 num_partitions=1 device_assignment=(0,)\n",
      "Level 9:absl:get_compile_options: num_replicas=1 num_partitions=1 device_assignment=(0,)\n",
      "Level 9:absl:get_compile_options: num_replicas=1 num_partitions=1 device_assignment=(0,)\n",
      "Level 9:absl:get_compile_options: num_replicas=1 num_partitions=1 device_assignment=(0,)\n",
      "Level 9:absl:get_compile_options: num_replicas=1 num_partitions=1 device_assignment=(0,)\n",
      "Level 9:absl:get_compile_options: num_replicas=1 num_partitions=1 device_assignment=(0,)\n",
      "DEBUG:csmc:instantiating super\n",
      "DEBUG:csmc:define A, b functions\n",
      "DEBUG:csmc:getting the parameter lengths\n",
      "DEBUG:csmc:getting x dimension\n",
      "DEBUG:csmc:getting the terminal time\n",
      "DEBUG:csmc:getting the maximum number of twists\n",
      "DEBUG:csmc:getting prop_params\n",
      "DEBUG:csmc:getting init_params\n",
      "DEBUG:csmc:getting model_params\n",
      "DEBUG:csmc:getting y\n",
      "DEBUG:csmc:define twisting parameters and parameter caches\n",
      "DEBUG:csmc:define psi twisting functions\n"
     ]
    }
   ],
   "source": [
    "from melange.tests.utils import get_nondefault_potential_initializer, checker_function\n",
    "from melange.smc import vSIS_lower_bound, SIS, generate_trajs, SIS_logW, bootstrap_logZ\n",
    "import tqdm\n",
    "from jax.lax import cond\n",
    "import numpy as np\n",
    "from melange.csmc import *\n",
    "\n",
    "#define some parameters\n",
    "N,T,Dx = 1000, 10, 1\n",
    "potential, (mu, cov), dG = get_nondefault_potential_initializer(Dx)\n",
    "cov = cov[0]\n",
    "dt=1e-2\n",
    "\n",
    "#define some _vanilla_ A, b fns\n",
    "A_fn = lambda x, params: params\n",
    "b_fn = lambda x, params: jnp.zeros(Dx)\n",
    "\n",
    "potential_params = jnp.linspace(0,1,T)[..., jnp.newaxis] #define the potential parameters\n",
    "\n",
    "prop_params = {\n",
    "               'potential_params': potential_params,\n",
    "               'forward_potential_params': potential_params,\n",
    "               'backward_potential_params': potential_params[1:],\n",
    "               'dt': dt\n",
    "               } #potential parameters dictionary goes here\n",
    "init_params = {'mus': jnp.array([mu]), \n",
    "               'covs': jnp.array([cov]),\n",
    "               'mixture_weights': jnp.array([1.])} #define the initial params\n",
    "model_params=None #there are no model parameters\n",
    "y=jnp.arange(T) #the y data aren't important. just know that there are the same number of them as there are data\n",
    "rs = random.PRNGKey(6) #define a random number \n",
    "\n",
    "#create the csmc container object\n",
    "smc_obj= StaticULAControlledSMC(N, \n",
    "                            potential=potential,\n",
    "                            forward_potential=potential, \n",
    "                            backward_potential=potential, \n",
    "                            A_fn = A_fn, #A_fn=lambda x, p: jnp.zeros((Dx, Dx)), \n",
    "                            b_fn = b_fn, #b_fn = lambda x, p: jnp.zeros(Dx),\n",
    "                            params_len=1,\n",
    "                            Dx=1,\n",
    "                            T=T,\n",
    "                            max_twists=10,\n",
    "                            prop_params=prop_params,\n",
    "                            init_params=init_params,\n",
    "                            model_params=model_params,\n",
    "                            y=None\n",
    "                           ) #create a controlled smc class\n",
    "\n",
    "\n"
   ]
  },
  {
   "cell_type": "markdown",
   "metadata": {},
   "source": [
    "can we wrap all of this functionality into something easy?\n"
   ]
  },
  {
   "cell_type": "code",
   "execution_count": 3,
   "metadata": {},
   "outputs": [],
   "source": [
    "class CSMCWrapper(object):\n",
    "    \"\"\"\n",
    "    container for monitoring csmc\n",
    "    \"\"\"\n",
    "    def __init__(self, csmc_object, rs):\n",
    "        \"\"\"\n",
    "        wrap\n",
    "        \"\"\"\n",
    "        assert csmc_object.twisting_iteration == 1\n",
    "        self.csmc_object = csmc_object\n",
    "        self.rs = rs\n",
    "        \n",
    "        self.Xs_container = []\n",
    "        self.agg_works = []\n",
    "        self.bootstrap_logZs = []\n",
    "        self.out_containers = []\n",
    "    \n",
    "    def run_twist_iteration(self):\n",
    "        re_rs, run_rs = random.split(self.rs)\n",
    "        self.rs = re_rs\n",
    "        Xs, works = twisted_smc(self.csmc_object, run_rs, aggregate_works=False)\n",
    "        bootstrap_logZs = bootstrap_logZ(works)\n",
    "        adp_fns_dict = self.csmc_object.get_ADP_fn()\n",
    "        out_container = adp_fns_dict['ADP'](Xs, works, verbose=True)\n",
    "        self.csmc_object.update_cSMC(new_A_params=out_container['out_A_params'],\n",
    "                                     new_b_params=out_container['out_b_params'],\n",
    "                                     new_A0=out_container['out_A0'],\n",
    "                                     new_b0=out_container['out_b0']\n",
    "                                    )\n",
    "        \n",
    "        #report\n",
    "        self.Xs_container.append(np.asarray(Xs))\n",
    "        self.agg_works.append(np.asarray(jnp.cumsum(works, axis=0)))\n",
    "        self.bootstrap_logZs.append(np.asarray(bootstrap_logZs))\n",
    "        self.out_containers.append(out_container)\n",
    "        \n",
    "    "
   ]
  },
  {
   "cell_type": "code",
   "execution_count": 4,
   "metadata": {},
   "outputs": [
    {
     "name": "stderr",
     "output_type": "stream",
     "text": [
      "DEBUG:absl:Compiling _split for args (ShapedArray(uint32[2]),).\n",
      "DEBUG:csmc:generating SMC variable initializer function\n",
      "DEBUG:absl:Compiling _split for args (ShapedArray(uint32[2]),).\n",
      "Level 9:absl:get_compile_options: num_replicas=1 num_partitions=1 device_assignment=(0,)\n",
      "DEBUG:absl:Compiling _where for args (ShapedArray(bool[]), ShapedArray(float64[], weak_type=True), ShapedArray(float64[], weak_type=True)).\n",
      "DEBUG:absl:Compiling _where for args (ShapedArray(bool[]), ShapedArray(float64[], weak_type=True), ShapedArray(float64[])).\n",
      "DEBUG:absl:Compiling _split for args (ShapedArray(uint32[1000,2]),).\n",
      "DEBUG:absl:Compiling _cumulative_reduction for args (ShapedArray(float64[1]),).\n",
      "DEBUG:absl:Compiling _uniform for args (ShapedArray(uint32[1000,2]), ShapedArray(float64[], weak_type=True), ShapedArray(float64[], weak_type=True)).\n",
      "DEBUG:absl:Compiling _searchsorted for args (ShapedArray(float64[1]), ShapedArray(float64[1000])).\n",
      "Level 9:absl:get_compile_options: num_replicas=1 num_partitions=1 device_assignment=(0,)\n",
      "Level 9:absl:get_compile_options: num_replicas=1 num_partitions=1 device_assignment=(0,)\n",
      "DEBUG:absl:Compiling _normal for args (ShapedArray(uint32[1000,2]),).\n",
      "DEBUG:csmc:generating simulation propagation function\n",
      "  0%|          | 0/9 [00:00<?, ?it/s]DEBUG:absl:Compiling prop for args (ShapedArray(int64[], weak_type=True), ShapedArray(float64[1000,1]), ShapedArray(uint32[2])).\n",
      "100%|██████████| 9/9 [00:00<00:00, 13.29it/s]\n",
      "DEBUG:csmc:generating SMC log weight initializer function\n",
      "DEBUG:csmc:generating the log weight calculator\n",
      "Level 9:absl:get_compile_options: num_replicas=1 num_partitions=1 device_assignment=(0,)\n",
      "  0%|          | 0/9 [00:00<?, ?it/s]DEBUG:absl:Compiling log_weights for args (ShapedArray(int64[], weak_type=True), ShapedArray(float64[1000,1]), ShapedArray(float64[1000,1])).\n",
      "100%|██████████| 9/9 [00:00<00:00, 37.44it/s]\n",
      "100%|██████████| 1000/1000 [00:01<00:00, 547.87it/s]\n",
      "DEBUG:csmc:generating approximate dynamic programming functions\n",
      "DEBUG:csmc:iterating backward...\n",
      "  0%|          | 0/9 [00:00<?, ?it/s]Level 9:absl:get_compile_options: num_replicas=1 num_partitions=1 device_assignment=(0,)\n",
      "Level 9:absl:get_compile_options: num_replicas=1 num_partitions=1 device_assignment=(0,)\n",
      "Level 9:absl:get_compile_options: num_replicas=1 num_partitions=1 device_assignment=(0,)\n",
      "Level 9:absl:get_compile_options: num_replicas=1 num_partitions=1 device_assignment=(0,)\n",
      "Level 9:absl:get_compile_options: num_replicas=1 num_partitions=1 device_assignment=(0,)\n",
      "Level 9:absl:get_compile_options: num_replicas=1 num_partitions=1 device_assignment=(0,)\n",
      "DEBUG:csmc:minimizer message: b'CONVERGENCE: NORM_OF_PROJECTED_GRADIENT_<=_PGTOL'\n",
      "Level 9:absl:get_compile_options: num_replicas=1 num_partitions=1 device_assignment=(0,)\n",
      " 11%|█         | 1/9 [00:00<00:03,  2.06it/s]DEBUG:csmc:minimizer message: b'CONVERGENCE: NORM_OF_PROJECTED_GRADIENT_<=_PGTOL'\n",
      " 22%|██▏       | 2/9 [00:00<00:02,  2.46it/s]DEBUG:csmc:minimizer message: b'CONVERGENCE: NORM_OF_PROJECTED_GRADIENT_<=_PGTOL'\n",
      " 33%|███▎      | 3/9 [00:00<00:02,  2.88it/s]DEBUG:csmc:minimizer message: b'CONVERGENCE: NORM_OF_PROJECTED_GRADIENT_<=_PGTOL'\n",
      " 44%|████▍     | 4/9 [00:01<00:01,  3.33it/s]DEBUG:csmc:minimizer message: b'CONVERGENCE: NORM_OF_PROJECTED_GRADIENT_<=_PGTOL'\n",
      " 56%|█████▌    | 5/9 [00:01<00:01,  3.75it/s]DEBUG:csmc:minimizer message: b'CONVERGENCE: NORM_OF_PROJECTED_GRADIENT_<=_PGTOL'\n",
      " 67%|██████▋   | 6/9 [00:01<00:00,  4.13it/s]DEBUG:csmc:minimizer message: b'CONVERGENCE: NORM_OF_PROJECTED_GRADIENT_<=_PGTOL'\n",
      " 78%|███████▊  | 7/9 [00:01<00:00,  4.45it/s]DEBUG:csmc:minimizer message: b'CONVERGENCE: NORM_OF_PROJECTED_GRADIENT_<=_PGTOL'\n",
      " 89%|████████▉ | 8/9 [00:01<00:00,  4.67it/s]DEBUG:csmc:minimizer message: b'CONVERGENCE: NORM_OF_PROJECTED_GRADIENT_<=_PGTOL'\n",
      "100%|██████████| 9/9 [00:02<00:00,  4.42it/s]\n",
      "DEBUG:csmc:conducting t=0 twist...\n",
      "DEBUG:csmc:minimizer message: b'CONVERGENCE: NORM_OF_PROJECTED_GRADIENT_<=_PGTOL'\n",
      "DEBUG:csmc:finished optimizations; terminating...\n",
      "DEBUG:csmc:updating cSMC with new parameters\n",
      "DEBUG:csmc:cacheing parameters at index 0\n",
      "Level 9:absl:get_compile_options: num_replicas=1 num_partitions=1 device_assignment=(0,)\n",
      "DEBUG:absl:Compiling _cumulative_reduction for args (ShapedArray(float64[10,1000]),).\n",
      "DEBUG:csmc:generating SMC variable initializer function\n",
      "DEBUG:csmc:generating simulation propagation function\n",
      "  0%|          | 0/9 [00:00<?, ?it/s]DEBUG:absl:Compiling prop for args (ShapedArray(int64[], weak_type=True), ShapedArray(float64[1000,1]), ShapedArray(uint32[2])).\n",
      "100%|██████████| 9/9 [00:00<00:00, 16.00it/s]\n",
      "DEBUG:csmc:generating SMC log weight initializer function\n",
      "DEBUG:csmc:generating the log weight calculator\n",
      "  0%|          | 0/9 [00:00<?, ?it/s]DEBUG:absl:Compiling log_weights for args (ShapedArray(int64[], weak_type=True), ShapedArray(float64[1000,1]), ShapedArray(float64[1000,1])).\n",
      "100%|██████████| 9/9 [00:00<00:00, 35.93it/s]\n",
      "100%|██████████| 1000/1000 [00:01<00:00, 528.80it/s]\n",
      "DEBUG:csmc:generating approximate dynamic programming functions\n",
      "DEBUG:csmc:iterating backward...\n",
      "  0%|          | 0/9 [00:00<?, ?it/s]DEBUG:csmc:minimizer message: b'CONVERGENCE: NORM_OF_PROJECTED_GRADIENT_<=_PGTOL'\n",
      " 11%|█         | 1/9 [00:00<00:01,  5.09it/s]DEBUG:csmc:minimizer message: b'CONVERGENCE: NORM_OF_PROJECTED_GRADIENT_<=_PGTOL'\n",
      " 22%|██▏       | 2/9 [00:00<00:01,  4.84it/s]DEBUG:csmc:minimizer message: b'CONVERGENCE: NORM_OF_PROJECTED_GRADIENT_<=_PGTOL'\n",
      " 33%|███▎      | 3/9 [00:00<00:01,  4.88it/s]DEBUG:csmc:minimizer message: b'CONVERGENCE: NORM_OF_PROJECTED_GRADIENT_<=_PGTOL'\n",
      " 44%|████▍     | 4/9 [00:00<00:00,  5.00it/s]DEBUG:csmc:minimizer message: b'CONVERGENCE: NORM_OF_PROJECTED_GRADIENT_<=_PGTOL'\n",
      " 56%|█████▌    | 5/9 [00:01<00:00,  4.84it/s]DEBUG:csmc:minimizer message: b'CONVERGENCE: NORM_OF_PROJECTED_GRADIENT_<=_PGTOL'\n",
      " 67%|██████▋   | 6/9 [00:01<00:00,  4.71it/s]DEBUG:csmc:minimizer message: b'CONVERGENCE: NORM_OF_PROJECTED_GRADIENT_<=_PGTOL'\n",
      " 78%|███████▊  | 7/9 [00:01<00:00,  4.77it/s]DEBUG:csmc:minimizer message: b'CONVERGENCE: NORM_OF_PROJECTED_GRADIENT_<=_PGTOL'\n",
      " 89%|████████▉ | 8/9 [00:01<00:00,  4.93it/s]DEBUG:csmc:minimizer message: b'CONVERGENCE: NORM_OF_PROJECTED_GRADIENT_<=_PGTOL'\n",
      "100%|██████████| 9/9 [00:01<00:00,  4.90it/s]\n",
      "DEBUG:csmc:conducting t=0 twist...\n",
      "DEBUG:csmc:minimizer message: b'CONVERGENCE: NORM_OF_PROJECTED_GRADIENT_<=_PGTOL'\n",
      "DEBUG:csmc:finished optimizations; terminating...\n",
      "DEBUG:csmc:updating cSMC with new parameters\n",
      "DEBUG:csmc:cacheing parameters at index 1\n",
      "DEBUG:csmc:generating SMC variable initializer function\n",
      "DEBUG:csmc:generating simulation propagation function\n",
      "  0%|          | 0/9 [00:00<?, ?it/s]DEBUG:absl:Compiling prop for args (ShapedArray(int64[], weak_type=True), ShapedArray(float64[1000,1]), ShapedArray(uint32[2])).\n",
      "100%|██████████| 9/9 [00:00<00:00, 15.57it/s]\n",
      "DEBUG:csmc:generating SMC log weight initializer function\n",
      "DEBUG:csmc:generating the log weight calculator\n",
      "  0%|          | 0/9 [00:00<?, ?it/s]DEBUG:absl:Compiling log_weights for args (ShapedArray(int64[], weak_type=True), ShapedArray(float64[1000,1]), ShapedArray(float64[1000,1])).\n",
      "100%|██████████| 9/9 [00:00<00:00, 36.36it/s]\n",
      "100%|██████████| 1000/1000 [00:02<00:00, 412.81it/s]\n",
      "DEBUG:csmc:generating approximate dynamic programming functions\n",
      "DEBUG:csmc:iterating backward...\n",
      "  0%|          | 0/9 [00:00<?, ?it/s]DEBUG:csmc:minimizer message: b'CONVERGENCE: NORM_OF_PROJECTED_GRADIENT_<=_PGTOL'\n",
      " 11%|█         | 1/9 [00:00<00:02,  3.96it/s]DEBUG:csmc:minimizer message: b'CONVERGENCE: NORM_OF_PROJECTED_GRADIENT_<=_PGTOL'\n",
      " 22%|██▏       | 2/9 [00:00<00:01,  4.04it/s]DEBUG:csmc:minimizer message: b'CONVERGENCE: NORM_OF_PROJECTED_GRADIENT_<=_PGTOL'\n",
      " 33%|███▎      | 3/9 [00:00<00:01,  3.94it/s]DEBUG:csmc:minimizer message: b'CONVERGENCE: NORM_OF_PROJECTED_GRADIENT_<=_PGTOL'\n",
      " 44%|████▍     | 4/9 [00:01<00:01,  3.79it/s]DEBUG:csmc:minimizer message: b'CONVERGENCE: NORM_OF_PROJECTED_GRADIENT_<=_PGTOL'\n",
      " 56%|█████▌    | 5/9 [00:01<00:01,  3.68it/s]DEBUG:csmc:minimizer message: b'CONVERGENCE: NORM_OF_PROJECTED_GRADIENT_<=_PGTOL'\n",
      " 67%|██████▋   | 6/9 [00:01<00:00,  3.65it/s]DEBUG:csmc:minimizer message: b'CONVERGENCE: NORM_OF_PROJECTED_GRADIENT_<=_PGTOL'\n",
      " 78%|███████▊  | 7/9 [00:01<00:00,  3.75it/s]DEBUG:csmc:minimizer message: b'CONVERGENCE: NORM_OF_PROJECTED_GRADIENT_<=_PGTOL'\n",
      " 89%|████████▉ | 8/9 [00:02<00:00,  3.67it/s]DEBUG:csmc:minimizer message: b'CONVERGENCE: NORM_OF_PROJECTED_GRADIENT_<=_PGTOL'\n",
      "100%|██████████| 9/9 [00:02<00:00,  3.79it/s]\n",
      "DEBUG:csmc:conducting t=0 twist...\n",
      "DEBUG:csmc:minimizer message: b'CONVERGENCE: NORM_OF_PROJECTED_GRADIENT_<=_PGTOL'\n",
      "DEBUG:csmc:finished optimizations; terminating...\n",
      "DEBUG:csmc:updating cSMC with new parameters\n",
      "DEBUG:csmc:cacheing parameters at index 2\n",
      "DEBUG:csmc:generating SMC variable initializer function\n",
      "DEBUG:csmc:generating simulation propagation function\n",
      "  0%|          | 0/9 [00:00<?, ?it/s]DEBUG:absl:Compiling prop for args (ShapedArray(int64[], weak_type=True), ShapedArray(float64[1000,1]), ShapedArray(uint32[2])).\n",
      "100%|██████████| 9/9 [00:00<00:00, 11.79it/s]\n",
      "DEBUG:csmc:generating SMC log weight initializer function\n",
      "DEBUG:csmc:generating the log weight calculator\n",
      "  0%|          | 0/9 [00:00<?, ?it/s]DEBUG:absl:Compiling log_weights for args (ShapedArray(int64[], weak_type=True), ShapedArray(float64[1000,1]), ShapedArray(float64[1000,1])).\n",
      "100%|██████████| 9/9 [00:00<00:00, 32.15it/s]\n",
      "100%|██████████| 1000/1000 [00:02<00:00, 399.87it/s]\n",
      "DEBUG:csmc:generating approximate dynamic programming functions\n",
      "DEBUG:csmc:iterating backward...\n",
      "  0%|          | 0/9 [00:00<?, ?it/s]DEBUG:csmc:minimizer message: b'CONVERGENCE: NORM_OF_PROJECTED_GRADIENT_<=_PGTOL'\n",
      " 11%|█         | 1/9 [00:00<00:02,  3.93it/s]DEBUG:csmc:minimizer message: b'CONVERGENCE: NORM_OF_PROJECTED_GRADIENT_<=_PGTOL'\n",
      " 22%|██▏       | 2/9 [00:00<00:01,  4.04it/s]DEBUG:csmc:minimizer message: b'CONVERGENCE: NORM_OF_PROJECTED_GRADIENT_<=_PGTOL'\n",
      " 33%|███▎      | 3/9 [00:00<00:01,  4.08it/s]DEBUG:csmc:minimizer message: b'CONVERGENCE: NORM_OF_PROJECTED_GRADIENT_<=_PGTOL'\n",
      " 44%|████▍     | 4/9 [00:00<00:01,  4.06it/s]DEBUG:csmc:minimizer message: b'CONVERGENCE: NORM_OF_PROJECTED_GRADIENT_<=_PGTOL'\n",
      " 56%|█████▌    | 5/9 [00:01<00:01,  3.97it/s]DEBUG:csmc:minimizer message: b'CONVERGENCE: NORM_OF_PROJECTED_GRADIENT_<=_PGTOL'\n",
      " 67%|██████▋   | 6/9 [00:01<00:00,  4.03it/s]DEBUG:csmc:minimizer message: b'CONVERGENCE: NORM_OF_PROJECTED_GRADIENT_<=_PGTOL'\n",
      " 78%|███████▊  | 7/9 [00:01<00:00,  4.11it/s]DEBUG:csmc:minimizer message: b'CONVERGENCE: NORM_OF_PROJECTED_GRADIENT_<=_PGTOL'\n",
      " 89%|████████▉ | 8/9 [00:01<00:00,  4.21it/s]DEBUG:csmc:minimizer message: b'CONVERGENCE: NORM_OF_PROJECTED_GRADIENT_<=_PGTOL'\n",
      "100%|██████████| 9/9 [00:02<00:00,  4.17it/s]\n",
      "DEBUG:csmc:conducting t=0 twist...\n",
      "DEBUG:csmc:minimizer message: b'CONVERGENCE: NORM_OF_PROJECTED_GRADIENT_<=_PGTOL'\n",
      "DEBUG:csmc:finished optimizations; terminating...\n",
      "DEBUG:csmc:updating cSMC with new parameters\n",
      "DEBUG:csmc:cacheing parameters at index 3\n"
     ]
    }
   ],
   "source": [
    "controller = CSMCWrapper(smc_obj, rs = random.PRNGKey(42))\n",
    "for i in range(4):\n",
    "    controller.run_twist_iteration()"
   ]
  },
  {
   "cell_type": "markdown",
   "metadata": {},
   "source": [
    "let's plot the distribution of bootstrapped logZs"
   ]
  },
  {
   "cell_type": "code",
   "execution_count": 6,
   "metadata": {},
   "outputs": [
    {
     "data": {
      "text/plain": [
       "Text(0.5, 1.0, 'bootstrapped logZs')"
      ]
     },
     "execution_count": 6,
     "metadata": {},
     "output_type": "execute_result"
    },
    {
     "data": {
      "image/png": "[encoded data removed]",
      "text/plain": [
       "<Figure size 432x288 with 1 Axes>"
      ]
     },
     "metadata": {
      "needs_background": "light"
     },
     "output_type": "display_data"
    }
   ],
   "source": [
    "sns.distplot(controller.bootstrap_logZs[0], label=f\"uncontrolled SMC\")\n",
    "sns.distplot(controller.bootstrap_logZs[1], label=f\"twist 1\")\n",
    "sns.distplot(controller.bootstrap_logZs[2], label=f\"twist 2\")\n",
    "sns.distplot(controller.bootstrap_logZs[3], label = f\"twist 3\")\n",
    "plt.vlines(dG, 0,1000, label=f\"true logZ\")\n",
    "plt.ylim(0, 1000)\n",
    "plt.legend()\n",
    "plt.ylabel('counts')\n",
    "plt.xlabel(f\"logZ\")\n",
    "plt.title(f\"bootstrapped logZs\")"
   ]
  },
  {
   "cell_type": "markdown",
   "metadata": {},
   "source": [
    "can we plot the starting and final distributions?"
   ]
  },
  {
   "cell_type": "code",
   "execution_count": 7,
   "metadata": {},
   "outputs": [],
   "source": [
    "from scipy.stats import multivariate_normal"
   ]
  },
  {
   "cell_type": "code",
   "execution_count": 8,
   "metadata": {},
   "outputs": [],
   "source": [
    "support = np.linspace(-4,4,100)[..., np.newaxis]\n",
    "init_untwist_dist = np.exp(multivariate_normal.logpdf(support, mean = mu, cov = cov))\n",
    "_, _, (twist_mu0, twist_cov0) = get_twisted_gmm(controller.csmc_object.init_params['mixture_weights'], \n",
    "                                               controller.csmc_object.init_params['mus'],\n",
    "                                               controller.csmc_object.init_params['covs'],\n",
    "                                               controller.csmc_object.A0,\n",
    "                                               controller.csmc_object.b0)\n",
    "init_twist_dist = np.exp(multivariate_normal.logpdf(support, mean = twist_mu0[0], cov = twist_cov0[0]))\n",
    "final_dist = np.exp(multivariate_normal.logpdf(support, mean = mu, cov = np.array([1.])))\n",
    "\n"
   ]
  },
  {
   "cell_type": "code",
   "execution_count": 9,
   "metadata": {},
   "outputs": [
    {
     "data": {
      "text/plain": [
       "<matplotlib.legend.Legend at 0x7f60dece5860>"
      ]
     },
     "execution_count": 9,
     "metadata": {},
     "output_type": "execute_result"
    },
    {
     "data": {
      "image/png": "[encoded data removed]",
      "text/plain": [
       "<Figure size 432x288 with 1 Axes>"
      ]
     },
     "metadata": {
      "needs_background": "light"
     },
     "output_type": "display_data"
    }
   ],
   "source": [
    "plt.plot(support, init_untwist_dist, lw=3, alpha=.5, label = f\"t=0 untwisted distribution\")\n",
    "plt.plot(support, init_twist_dist, lw=3, alpha=.5, label=f\"t=0 twisted distribution\")\n",
    "plt.plot(support, final_dist, lw=3, alpha=.5, label=f\"t=9 (last) final target distribution\")\n",
    "plt.xlabel(f\"x\")\n",
    "plt.ylabel(f\"density\")\n",
    "plt.title(f\"initial and final target distributions\")\n",
    "plt.legend()"
   ]
  },
  {
   "cell_type": "markdown",
   "metadata": {},
   "source": [
    "so it would appear that we can recover the exact posterior since the prior family includes the posterior.\n",
    "\n",
    "In a physics context, this is akin to annealing between an oscillator of spring constant $K_0$ to a spring constant of $2K_0$"
   ]
  },
  {
   "cell_type": "markdown",
   "metadata": {},
   "source": [
    "Now, I'll attempt to anneal between two springs of a constant $K_0$ but from $r_0=0$ to $r_1=2$"
   ]
  },
  {
   "cell_type": "code",
   "execution_count": 99,
   "metadata": {},
   "outputs": [],
   "source": [
    "def new_potential(pos, parameter):\n",
    "    mod_parameter = parameter[0]\n",
    "    dim = pos.shape[0]\n",
    "    r0, r1 = jnp.array([0.0]), jnp.array([2.0])\n",
    "    k0 = jnp.diag(jnp.ones(dim))\n",
    "    delta0, delta1 = pos-r0, pos-r1\n",
    "    return 0.5*((1. - mod_parameter) * jnp.dot(jnp.dot(delta0, k0), delta0) + mod_parameter*jnp.dot(jnp.dot(delta1, k0), delta1))\n",
    "\n",
    "#make a dummy potential for fun\n",
    "def dummy_potential(pos, parameter):\n",
    "    return 0."
   ]
  },
  {
   "cell_type": "code",
   "execution_count": 170,
   "metadata": {},
   "outputs": [],
   "source": [
    "#wrap an initializer\n",
    "def get_test_potential_initializer(dimension):\n",
    "    potential = new_potential\n",
    "    mu, cov = jnp.zeros(dimension), jnp.diag(jnp.ones(dimension))\n",
    "    dG = 0.\n",
    "    return potential, (mu, cov), dG\n",
    "\n",
    "#define some _vanilla_ A, b fns\n",
    "A_fn = lambda x, params: params\n",
    "b_fn = lambda x, params: params\n"
   ]
  },
  {
   "cell_type": "markdown",
   "metadata": {},
   "source": [
    "next, I'll anneal between a gaussian with a covariance of 1 centered at 0 and anneal to the same gaussian, except centered at x=2 (again, over 10 steps)"
   ]
  },
  {
   "cell_type": "code",
   "execution_count": 268,
   "metadata": {},
   "outputs": [
    {
     "name": "stderr",
     "output_type": "stream",
     "text": [
      "DEBUG:csmc:instantiating super\n",
      "DEBUG:csmc:define A, b functions\n",
      "DEBUG:csmc:getting the parameter lengths\n",
      "DEBUG:csmc:getting x dimension\n",
      "DEBUG:csmc:getting the terminal time\n",
      "DEBUG:csmc:getting the maximum number of twists\n",
      "DEBUG:csmc:getting prop_params\n",
      "DEBUG:csmc:getting init_params\n",
      "DEBUG:csmc:getting model_params\n",
      "DEBUG:csmc:getting y\n",
      "DEBUG:csmc:define twisting parameters and parameter caches\n",
      "DEBUG:csmc:define psi twisting functions\n"
     ]
    }
   ],
   "source": [
    "N,T,Dx = 10000, 10, 1\n",
    "potential, (mu, cov), dG = get_test_potential_initializer(Dx)\n",
    "cov = cov[0]\n",
    "potential_params = jnp.linspace(0,1,T)[..., jnp.newaxis] #define the potential parameters\n",
    "\n",
    "prop_params = {\n",
    "               'potential_params': potential_params,\n",
    "               'forward_potential_params': potential_params,\n",
    "               'backward_potential_params': potential_params[1:],\n",
    "               'dt': dt\n",
    "               } #potential parameters dictionary goes here\n",
    "init_params = {'mus': jnp.array([mu]), \n",
    "               'covs': jnp.array([cov]),\n",
    "               'mixture_weights': jnp.array([1.])} #define the initial params\n",
    "model_params=None #there are no model parameters\n",
    "y=jnp.arange(T) #the y data aren't important. just know that there are the same number of them as there are data\n",
    "rs = random.PRNGKey(6) #define a random number \n",
    "\n",
    "#create the csmc container object\n",
    "smc_obj= StaticULAControlledSMC(N, \n",
    "                            potential=potential,\n",
    "                            forward_potential=potential, \n",
    "                            backward_potential=potential, \n",
    "                            A_fn = A_fn,\n",
    "                            b_fn = b_fn,\n",
    "                            params_len=1,\n",
    "                            Dx=1,\n",
    "                            T=T,\n",
    "                            max_twists=10,\n",
    "                            prop_params=prop_params,\n",
    "                            init_params=init_params,\n",
    "                            model_params=model_params,\n",
    "                            y=None\n",
    "                           ) #create a controlled smc class"
   ]
  },
  {
   "cell_type": "code",
   "execution_count": 269,
   "metadata": {},
   "outputs": [
    {
     "name": "stderr",
     "output_type": "stream",
     "text": [
      "DEBUG:csmc:generating SMC variable initializer function\n",
      "DEBUG:csmc:generating simulation propagation function\n",
      "  0%|          | 0/9 [00:00<?, ?it/s]DEBUG:absl:Compiling prop for args (ShapedArray(int64[], weak_type=True), ShapedArray(float64[10000,1]), ShapedArray(uint32[2])).\n",
      "100%|██████████| 9/9 [00:00<00:00, 19.81it/s]\n",
      "DEBUG:csmc:generating SMC log weight initializer function\n",
      "DEBUG:csmc:generating the log weight calculator\n",
      "  0%|          | 0/9 [00:00<?, ?it/s]DEBUG:absl:Compiling log_weights for args (ShapedArray(int64[], weak_type=True), ShapedArray(float64[10000,1]), ShapedArray(float64[10000,1])).\n",
      "100%|██████████| 9/9 [00:00<00:00, 38.91it/s]\n",
      "100%|██████████| 1000/1000 [00:02<00:00, 444.52it/s]\n",
      "DEBUG:csmc:generating approximate dynamic programming functions\n",
      "DEBUG:csmc:iterating backward...\n",
      "  0%|          | 0/9 [00:00<?, ?it/s]DEBUG:csmc:minimizer message: b'CONVERGENCE: NORM_OF_PROJECTED_GRADIENT_<=_PGTOL'\n",
      " 11%|█         | 1/9 [00:00<00:02,  3.94it/s]DEBUG:csmc:minimizer message: b'CONVERGENCE: NORM_OF_PROJECTED_GRADIENT_<=_PGTOL'\n",
      " 22%|██▏       | 2/9 [00:00<00:01,  3.94it/s]DEBUG:csmc:minimizer message: b'CONVERGENCE: NORM_OF_PROJECTED_GRADIENT_<=_PGTOL'\n",
      " 33%|███▎      | 3/9 [00:00<00:01,  3.94it/s]DEBUG:csmc:minimizer message: b'CONVERGENCE: REL_REDUCTION_OF_F_<=_FACTR*EPSMCH'\n",
      " 44%|████▍     | 4/9 [00:01<00:01,  3.45it/s]DEBUG:csmc:minimizer message: b'CONVERGENCE: REL_REDUCTION_OF_F_<=_FACTR*EPSMCH'\n",
      " 56%|█████▌    | 5/9 [00:01<00:01,  3.11it/s]DEBUG:csmc:minimizer message: b'CONVERGENCE: NORM_OF_PROJECTED_GRADIENT_<=_PGTOL'\n",
      " 67%|██████▋   | 6/9 [00:01<00:01,  2.95it/s]DEBUG:csmc:minimizer message: b'CONVERGENCE: NORM_OF_PROJECTED_GRADIENT_<=_PGTOL'\n",
      " 78%|███████▊  | 7/9 [00:02<00:00,  3.01it/s]DEBUG:csmc:minimizer message: b'CONVERGENCE: NORM_OF_PROJECTED_GRADIENT_<=_PGTOL'\n",
      " 89%|████████▉ | 8/9 [00:02<00:00,  2.90it/s]DEBUG:csmc:minimizer message: b'CONVERGENCE: REL_REDUCTION_OF_F_<=_FACTR*EPSMCH'\n",
      "100%|██████████| 9/9 [00:02<00:00,  3.02it/s]\n",
      "DEBUG:csmc:conducting t=0 twist...\n",
      "DEBUG:csmc:minimizer message: b'CONVERGENCE: NORM_OF_PROJECTED_GRADIENT_<=_PGTOL'\n",
      "DEBUG:csmc:finished optimizations; terminating...\n",
      "DEBUG:csmc:updating cSMC with new parameters\n",
      "DEBUG:csmc:cacheing parameters at index 0\n",
      "DEBUG:csmc:generating SMC variable initializer function\n",
      "DEBUG:csmc:generating simulation propagation function\n",
      "  0%|          | 0/9 [00:00<?, ?it/s]DEBUG:absl:Compiling prop for args (ShapedArray(int64[], weak_type=True), ShapedArray(float64[10000,1]), ShapedArray(uint32[2])).\n",
      "100%|██████████| 9/9 [00:00<00:00, 14.91it/s]\n",
      "DEBUG:csmc:generating SMC log weight initializer function\n",
      "DEBUG:csmc:generating the log weight calculator\n",
      "  0%|          | 0/9 [00:00<?, ?it/s]DEBUG:absl:Compiling log_weights for args (ShapedArray(int64[], weak_type=True), ShapedArray(float64[10000,1]), ShapedArray(float64[10000,1])).\n",
      "100%|██████████| 9/9 [00:00<00:00, 26.99it/s]\n",
      "100%|██████████| 1000/1000 [00:03<00:00, 297.99it/s]\n",
      "DEBUG:csmc:generating approximate dynamic programming functions\n",
      "DEBUG:csmc:iterating backward...\n",
      "  0%|          | 0/9 [00:00<?, ?it/s]DEBUG:csmc:minimizer message: b'CONVERGENCE: NORM_OF_PROJECTED_GRADIENT_<=_PGTOL'\n",
      " 11%|█         | 1/9 [00:00<00:03,  2.40it/s]DEBUG:csmc:minimizer message: b'CONVERGENCE: NORM_OF_PROJECTED_GRADIENT_<=_PGTOL'\n",
      " 22%|██▏       | 2/9 [00:00<00:02,  2.51it/s]DEBUG:csmc:minimizer message: b'CONVERGENCE: NORM_OF_PROJECTED_GRADIENT_<=_PGTOL'\n",
      " 33%|███▎      | 3/9 [00:01<00:02,  2.49it/s]DEBUG:csmc:minimizer message: b'CONVERGENCE: NORM_OF_PROJECTED_GRADIENT_<=_PGTOL'\n",
      " 44%|████▍     | 4/9 [00:01<00:01,  2.55it/s]DEBUG:csmc:minimizer message: b'CONVERGENCE: NORM_OF_PROJECTED_GRADIENT_<=_PGTOL'\n",
      " 56%|█████▌    | 5/9 [00:01<00:01,  2.64it/s]DEBUG:csmc:minimizer message: b'CONVERGENCE: NORM_OF_PROJECTED_GRADIENT_<=_PGTOL'\n",
      " 67%|██████▋   | 6/9 [00:02<00:01,  2.73it/s]DEBUG:csmc:minimizer message: b'CONVERGENCE: NORM_OF_PROJECTED_GRADIENT_<=_PGTOL'\n",
      " 78%|███████▊  | 7/9 [00:02<00:00,  2.81it/s]DEBUG:csmc:minimizer message: b'CONVERGENCE: NORM_OF_PROJECTED_GRADIENT_<=_PGTOL'\n",
      " 89%|████████▉ | 8/9 [00:02<00:00,  2.88it/s]DEBUG:csmc:minimizer message: b'CONVERGENCE: NORM_OF_PROJECTED_GRADIENT_<=_PGTOL'\n",
      "100%|██████████| 9/9 [00:03<00:00,  2.80it/s]\n",
      "DEBUG:csmc:conducting t=0 twist...\n",
      "DEBUG:csmc:minimizer message: b'CONVERGENCE: NORM_OF_PROJECTED_GRADIENT_<=_PGTOL'\n",
      "DEBUG:csmc:finished optimizations; terminating...\n",
      "DEBUG:csmc:updating cSMC with new parameters\n",
      "DEBUG:csmc:cacheing parameters at index 1\n",
      "DEBUG:csmc:generating SMC variable initializer function\n",
      "DEBUG:csmc:generating simulation propagation function\n",
      "  0%|          | 0/9 [00:00<?, ?it/s]DEBUG:absl:Compiling prop for args (ShapedArray(int64[], weak_type=True), ShapedArray(float64[10000,1]), ShapedArray(uint32[2])).\n",
      "100%|██████████| 9/9 [00:00<00:00, 14.79it/s]\n",
      "DEBUG:csmc:generating SMC log weight initializer function\n",
      "DEBUG:csmc:generating the log weight calculator\n",
      "  0%|          | 0/9 [00:00<?, ?it/s]DEBUG:absl:Compiling log_weights for args (ShapedArray(int64[], weak_type=True), ShapedArray(float64[10000,1]), ShapedArray(float64[10000,1])).\n",
      "100%|██████████| 9/9 [00:00<00:00, 22.22it/s]\n",
      "100%|██████████| 1000/1000 [00:03<00:00, 332.59it/s]\n",
      "DEBUG:csmc:generating approximate dynamic programming functions\n",
      "DEBUG:csmc:iterating backward...\n",
      "  0%|          | 0/9 [00:00<?, ?it/s]DEBUG:csmc:minimizer message: b'CONVERGENCE: NORM_OF_PROJECTED_GRADIENT_<=_PGTOL'\n",
      " 11%|█         | 1/9 [00:00<00:03,  2.55it/s]DEBUG:csmc:minimizer message: b'CONVERGENCE: NORM_OF_PROJECTED_GRADIENT_<=_PGTOL'\n",
      " 22%|██▏       | 2/9 [00:00<00:02,  2.58it/s]DEBUG:csmc:minimizer message: b'CONVERGENCE: NORM_OF_PROJECTED_GRADIENT_<=_PGTOL'\n",
      " 33%|███▎      | 3/9 [00:01<00:02,  2.44it/s]DEBUG:csmc:minimizer message: b'CONVERGENCE: NORM_OF_PROJECTED_GRADIENT_<=_PGTOL'\n",
      " 44%|████▍     | 4/9 [00:01<00:02,  2.34it/s]DEBUG:csmc:minimizer message: b'CONVERGENCE: NORM_OF_PROJECTED_GRADIENT_<=_PGTOL'\n",
      " 56%|█████▌    | 5/9 [00:02<00:01,  2.35it/s]DEBUG:csmc:minimizer message: b'CONVERGENCE: NORM_OF_PROJECTED_GRADIENT_<=_PGTOL'\n",
      " 67%|██████▋   | 6/9 [00:02<00:01,  2.43it/s]DEBUG:csmc:minimizer message: b'CONVERGENCE: NORM_OF_PROJECTED_GRADIENT_<=_PGTOL'\n",
      " 78%|███████▊  | 7/9 [00:02<00:00,  2.30it/s]DEBUG:csmc:minimizer message: b'CONVERGENCE: REL_REDUCTION_OF_F_<=_FACTR*EPSMCH'\n",
      " 89%|████████▉ | 8/9 [00:03<00:00,  2.19it/s]DEBUG:csmc:minimizer message: b'CONVERGENCE: REL_REDUCTION_OF_F_<=_FACTR*EPSMCH'\n",
      "100%|██████████| 9/9 [00:03<00:00,  2.27it/s]\n",
      "DEBUG:csmc:conducting t=0 twist...\n",
      "DEBUG:csmc:minimizer message: b'CONVERGENCE: NORM_OF_PROJECTED_GRADIENT_<=_PGTOL'\n",
      "DEBUG:csmc:finished optimizations; terminating...\n",
      "DEBUG:csmc:updating cSMC with new parameters\n",
      "DEBUG:csmc:cacheing parameters at index 2\n",
      "DEBUG:csmc:generating SMC variable initializer function\n",
      "DEBUG:csmc:generating simulation propagation function\n",
      "  0%|          | 0/9 [00:00<?, ?it/s]DEBUG:absl:Compiling prop for args (ShapedArray(int64[], weak_type=True), ShapedArray(float64[10000,1]), ShapedArray(uint32[2])).\n",
      "100%|██████████| 9/9 [00:00<00:00, 14.87it/s]\n",
      "DEBUG:csmc:generating SMC log weight initializer function\n",
      "DEBUG:csmc:generating the log weight calculator\n",
      "  0%|          | 0/9 [00:00<?, ?it/s]DEBUG:absl:Compiling log_weights for args (ShapedArray(int64[], weak_type=True), ShapedArray(float64[10000,1]), ShapedArray(float64[10000,1])).\n",
      "100%|██████████| 9/9 [00:00<00:00, 27.23it/s]\n",
      "100%|██████████| 1000/1000 [00:03<00:00, 325.51it/s]\n",
      "DEBUG:csmc:generating approximate dynamic programming functions\n",
      "DEBUG:csmc:iterating backward...\n",
      "  0%|          | 0/9 [00:00<?, ?it/s]DEBUG:csmc:minimizer message: b'CONVERGENCE: NORM_OF_PROJECTED_GRADIENT_<=_PGTOL'\n",
      " 11%|█         | 1/9 [00:00<00:03,  2.67it/s]DEBUG:csmc:minimizer message: b'CONVERGENCE: NORM_OF_PROJECTED_GRADIENT_<=_PGTOL'\n",
      " 22%|██▏       | 2/9 [00:00<00:02,  2.60it/s]DEBUG:csmc:minimizer message: b'CONVERGENCE: NORM_OF_PROJECTED_GRADIENT_<=_PGTOL'\n",
      " 33%|███▎      | 3/9 [00:01<00:02,  2.54it/s]DEBUG:csmc:minimizer message: b'CONVERGENCE: NORM_OF_PROJECTED_GRADIENT_<=_PGTOL'\n",
      " 44%|████▍     | 4/9 [00:01<00:01,  2.53it/s]DEBUG:csmc:minimizer message: b'CONVERGENCE: NORM_OF_PROJECTED_GRADIENT_<=_PGTOL'\n",
      " 56%|█████▌    | 5/9 [00:01<00:01,  2.57it/s]DEBUG:csmc:minimizer message: b'CONVERGENCE: NORM_OF_PROJECTED_GRADIENT_<=_PGTOL'\n",
      " 67%|██████▋   | 6/9 [00:02<00:01,  2.64it/s]DEBUG:csmc:minimizer message: b'CONVERGENCE: NORM_OF_PROJECTED_GRADIENT_<=_PGTOL'\n",
      " 78%|███████▊  | 7/9 [00:02<00:00,  2.71it/s]DEBUG:csmc:minimizer message: b'CONVERGENCE: NORM_OF_PROJECTED_GRADIENT_<=_PGTOL'\n",
      " 89%|████████▉ | 8/9 [00:03<00:00,  2.75it/s]DEBUG:csmc:minimizer message: b'CONVERGENCE: NORM_OF_PROJECTED_GRADIENT_<=_PGTOL'\n",
      "100%|██████████| 9/9 [00:03<00:00,  2.67it/s]\n",
      "DEBUG:csmc:conducting t=0 twist...\n",
      "DEBUG:csmc:minimizer message: b'CONVERGENCE: NORM_OF_PROJECTED_GRADIENT_<=_PGTOL'\n",
      "DEBUG:csmc:finished optimizations; terminating...\n",
      "DEBUG:csmc:updating cSMC with new parameters\n",
      "DEBUG:csmc:cacheing parameters at index 3\n"
     ]
    }
   ],
   "source": [
    "#29 random key\n",
    "controller = CSMCWrapper(smc_obj, rs = random.PRNGKey(27))\n",
    "for i in range(4):\n",
    "    controller.run_twist_iteration()"
   ]
  },
  {
   "cell_type": "code",
   "execution_count": 271,
   "metadata": {},
   "outputs": [
    {
     "data": {
      "text/plain": [
       "Text(0.5, 1.0, 'bootstrapped logZs')"
      ]
     },
     "execution_count": 271,
     "metadata": {},
     "output_type": "execute_result"
    },
    {
     "data": {
      "image/png": "[encoded data removed]",
      "text/plain": [
       "<Figure size 432x288 with 1 Axes>"
      ]
     },
     "metadata": {
      "needs_background": "light"
     },
     "output_type": "display_data"
    }
   ],
   "source": [
    "sns.distplot(controller.bootstrap_logZs[0], label=f\"uncontrolled SMC\")\n",
    "sns.distplot(controller.bootstrap_logZs[1], label=f\"twist 1\")\n",
    "sns.distplot(controller.bootstrap_logZs[2], label=f\"twist 2\")\n",
    "sns.distplot(controller.bootstrap_logZs[3], label = f\"twist 3\")\n",
    "#sns.distplot(controller.bootstrap_logZs[4], label = f\"twist 4\")\n",
    "#sns.distplot(controller.bootstrap_logZs[5], label = f\"twist 5\")\n",
    "#sns.distplot(controller.bootstrap_logZs[6], label = f\"twist 5\")\n",
    "plt.vlines(dG, 0,1000, label=f\"true logZ\")\n",
    "plt.ylim(0, 100)\n",
    "plt.legend()\n",
    "plt.ylabel('counts')\n",
    "plt.xlabel(f\"logZ\")\n",
    "plt.title(f\"bootstrapped logZs\")"
   ]
  },
  {
   "cell_type": "code",
   "execution_count": 274,
   "metadata": {},
   "outputs": [],
   "source": [
    "support = np.linspace(-4,4,100)[..., np.newaxis]\n",
    "init_untwist_dist = np.exp(multivariate_normal.logpdf(support, mean = mu, cov = cov))\n",
    "_, _, (twist_mu0, twist_cov0) = get_twisted_gmm(controller.csmc_object.init_params['mixture_weights'], \n",
    "                                               controller.csmc_object.init_params['mus'],\n",
    "                                               controller.csmc_object.init_params['covs'],\n",
    "                                               controller.csmc_object.A0,\n",
    "                                               controller.csmc_object.b0)\n",
    "init_twist_dist = np.exp(multivariate_normal.logpdf(support, mean = twist_mu0[0], cov = twist_cov0[0]))\n",
    "final_dist = np.exp(multivariate_normal.logpdf(support, mean = 2., cov = np.array([1.])))\n",
    "\n"
   ]
  },
  {
   "cell_type": "code",
   "execution_count": 276,
   "metadata": {},
   "outputs": [
    {
     "data": {
      "text/plain": [
       "<matplotlib.legend.Legend at 0x7f5fcf9d5438>"
      ]
     },
     "execution_count": 276,
     "metadata": {},
     "output_type": "execute_result"
    },
    {
     "data": {
      "image/png": "[encoded data removed]",
      "text/plain": [
       "<Figure size 432x288 with 1 Axes>"
      ]
     },
     "metadata": {
      "needs_background": "light"
     },
     "output_type": "display_data"
    }
   ],
   "source": [
    "plt.plot(support, init_untwist_dist, lw=3, alpha=.5, label = f\"t=0 untwisted distribution\")\n",
    "plt.plot(support, init_twist_dist, lw=3, alpha=.5, label=f\"t=0 twisted distribution\")\n",
    "plt.plot(support, final_dist, lw=3, alpha=.5, label=f\"t=9 (last) final target distribution\")\n",
    "plt.xlabel(f\"x\")\n",
    "plt.ylabel(f\"density\")\n",
    "plt.title(f\"initial and final target distributions\")\n",
    "plt.legend()"
   ]
  },
  {
   "cell_type": "markdown",
   "metadata": {},
   "source": [
    "cool"
   ]
  },
  {
   "cell_type": "markdown",
   "metadata": {},
   "source": [
    "NOTES:\n",
    "- in both of these examples, the twisting functions that control the variance and mean of the propagations are _independent_ of the position of the latent variable, which is perhaps an unnecessary constraint\n",
    "- to fix this ^, I will write more expressive functions (while maintaining the constraint that the covariance must be positive-definite)\n",
    "- I need to fix some of the loggings since they are perhaps a little overly verbose\n"
   ]
  }
 ],
 "metadata": {
  "kernelspec": {
   "display_name": "Python 3",
   "language": "python",
   "name": "python3"
  },
  "language_info": {
   "codemirror_mode": {
    "name": "ipython",
    "version": 3
   },
   "file_extension": ".py",
   "mimetype": "text/x-python",
   "name": "python",
   "nbconvert_exporter": "python",
   "pygments_lexer": "ipython3",
   "version": "3.6.7"
  }
 },
 "nbformat": 4,
 "nbformat_minor": 4
}
