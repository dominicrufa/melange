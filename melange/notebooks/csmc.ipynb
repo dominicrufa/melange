{
 "cells": [
  {
   "cell_type": "markdown",
   "metadata": {},
   "source": [
    "cSMC"
   ]
  },
  {
   "cell_type": "code",
   "execution_count": 1,
   "metadata": {},
   "outputs": [],
   "source": [
    "import jax.numpy as jnp\n",
    "from jax import random\n",
    "from jax import grad, vmap, jit\n",
    "from matplotlib import pyplot as plt\n",
    "import seaborn as sns\n",
    "from jax.config import config; config.update(\"jax_enable_x64\", True)\n",
    "%matplotlib inline"
   ]
  },
  {
   "cell_type": "code",
   "execution_count": 2,
   "metadata": {},
   "outputs": [
    {
     "name": "stderr",
     "output_type": "stream",
     "text": [
      "DEBUG:absl:Initializing backend 'interpreter'\n",
      "DEBUG:absl:Initializing backend 'cpu'\n",
      "DEBUG:absl:Initializing backend 'gpu'\n",
      "DEBUG:absl:Error initializing backend 'gpu': Not found: Could not find registered platform with name: \"cuda\". Available platform names are: Host Interpreter\n",
      "/home/dominic/anaconda3/envs/openmm/lib/python3.6/site-packages/jax/lib/xla_bridge.py:130: UserWarning: No GPU/TPU found, falling back to CPU.\n",
      "  warnings.warn('No GPU/TPU found, falling back to CPU.')\n",
      "Level 9:absl:get_compile_options: num_replicas=1 num_partitions=1 device_assignment=(0,)\n",
      "DEBUG:absl:Compiling _where for args (ShapedArray(bool[1,1]), ShapedArray(float64[1]), ShapedArray(float64[1])).\n",
      "Level 9:absl:get_compile_options: num_replicas=1 num_partitions=1 device_assignment=(0,)\n",
      "Level 9:absl:get_compile_options: num_replicas=1 num_partitions=1 device_assignment=(0,)\n",
      "Level 9:absl:get_compile_options: num_replicas=1 num_partitions=1 device_assignment=(0,)\n",
      "Level 9:absl:get_compile_options: num_replicas=1 num_partitions=1 device_assignment=(0,)\n",
      "Level 9:absl:get_compile_options: num_replicas=1 num_partitions=1 device_assignment=(0,)\n",
      "Level 9:absl:get_compile_options: num_replicas=1 num_partitions=1 device_assignment=(0,)\n",
      "DEBUG:absl:Compiling _split for args (ShapedArray(uint32[2]),).\n",
      "DEBUG:absl:Compiling _split for args (ShapedArray(uint32[2]),).\n",
      "Level 9:absl:get_compile_options: num_replicas=1 num_partitions=1 device_assignment=(0,)\n",
      "DEBUG:absl:Compiling _where for args (ShapedArray(bool[]), ShapedArray(float64[], weak_type=True), ShapedArray(float64[], weak_type=True)).\n",
      "DEBUG:absl:Compiling _where for args (ShapedArray(bool[]), ShapedArray(float64[], weak_type=True), ShapedArray(float64[])).\n",
      "DEBUG:absl:Compiling _split for args (ShapedArray(uint32[100,2]),).\n",
      "DEBUG:absl:Compiling _cumulative_reduction for args (ShapedArray(float64[1]),).\n",
      "DEBUG:absl:Compiling _uniform for args (ShapedArray(uint32[100,2]), ShapedArray(float64[], weak_type=True), ShapedArray(float64[], weak_type=True)).\n",
      "DEBUG:absl:Compiling _searchsorted for args (ShapedArray(float64[1]), ShapedArray(float64[100])).\n",
      "Level 9:absl:get_compile_options: num_replicas=1 num_partitions=1 device_assignment=(0,)\n",
      "Level 9:absl:get_compile_options: num_replicas=1 num_partitions=1 device_assignment=(0,)\n",
      "DEBUG:absl:Compiling _normal for args (ShapedArray(uint32[100,2]),).\n",
      "Level 9:absl:get_compile_options: num_replicas=1 num_partitions=1 device_assignment=(0,)\n",
      "Level 9:absl:get_compile_options: num_replicas=1 num_partitions=1 device_assignment=(0,)\n",
      "Level 9:absl:get_compile_options: num_replicas=1 num_partitions=1 device_assignment=(0,)\n",
      "Level 9:absl:get_compile_options: num_replicas=1 num_partitions=1 device_assignment=(0,)\n",
      "Level 9:absl:get_compile_options: num_replicas=1 num_partitions=1 device_assignment=(0,)\n",
      "Level 9:absl:get_compile_options: num_replicas=1 num_partitions=1 device_assignment=(0,)\n",
      "Level 9:absl:get_compile_options: num_replicas=1 num_partitions=1 device_assignment=(0,)\n",
      "Level 9:absl:get_compile_options: num_replicas=1 num_partitions=1 device_assignment=(0,)\n",
      "Level 9:absl:get_compile_options: num_replicas=1 num_partitions=1 device_assignment=(0,)\n",
      "Level 9:absl:get_compile_options: num_replicas=1 num_partitions=1 device_assignment=(0,)\n",
      "Level 9:absl:get_compile_options: num_replicas=1 num_partitions=1 device_assignment=(0,)\n",
      "DEBUG:absl:Compiling _cumulative_reduction for args (ShapedArray(float64[10,100]),).\n"
     ]
    },
    {
     "name": "stdout",
     "output_type": "stream",
     "text": [
      "the estimated logZ is -0.3309316707090595; the True logZ is -0.3465\n"
     ]
    }
   ],
   "source": [
    "from melange.tests.utils import get_nondefault_potential_initializer, checker_function\n",
    "from melange.smc import vSIS_lower_bound, SIS, generate_trajs, SIS_logW\n",
    "import tqdm\n",
    "from jax.lax import cond\n",
    "import numpy as np\n",
    "from melange.csmc import *\n",
    "\n",
    "#define some parameters\n",
    "N,T,Dx = 100, 10, 1\n",
    "potential, (mu, cov), dG = get_nondefault_potential_initializer(Dx)\n",
    "cov = cov[0]\n",
    "dt=1e-2\n",
    "\n",
    "#define some _vanilla_ A, b fns\n",
    "A_fn = lambda x, params: params\n",
    "b_fn = lambda x, params: params\n",
    "\n",
    "#create the csmc container object\n",
    "smc_obj= StaticULAControlledSMC(N, \n",
    "                            potential=potential,\n",
    "                            forward_potential=potential, \n",
    "                            backward_potential=potential, \n",
    "                            A_fn = A_fn, #A_fn=lambda x, p: jnp.zeros((Dx, Dx)), \n",
    "                            b_fn = b_fn, #b_fn = lambda x, p: jnp.zeros(Dx),\n",
    "                            A_params_len=1,\n",
    "                            b_params_len=1,\n",
    "                            Dx=1,\n",
    "                            T=T\n",
    "                           ) #create a controlled smc class\n",
    "\n",
    "#create SMC parameters/functions\n",
    "prop, logw, (init_Xs, init_logws) = smc_obj.get_fns() #pull the necessary functions from it\n",
    "potential_params = jnp.linspace(0,1,T)[..., jnp.newaxis] #define the potential parameters\n",
    "\n",
    "prop_params = {\n",
    "               'potential_params': potential_params,\n",
    "               'forward_potential_params': potential_params,\n",
    "               'backward_potential_params': potential_params[1:],\n",
    "               'dt': dt\n",
    "               } #potential parameters dictionary goes here\n",
    "init_params = {'mus': jnp.array([mu]), \n",
    "               'covs': jnp.array([cov]),\n",
    "               'mixture_weights': jnp.array([1.])} #define the initial params\n",
    "model_params=None #there are no model parameters\n",
    "y=jnp.arange(T) #the y data aren't important. just know that there are the same number of them as there are data\n",
    "rs = random.PRNGKey(6) #define a random number \n",
    "\n",
    "#create the trajectories\n",
    "Xs = generate_trajs(prop_params, model_params, y, rs, init_params, init_Xs, prop)\n",
    "logWs = SIS_logW(Xs, prop_params, model_params, y, init_params, logw, init_logws, aggregate_works=False)\n",
    "aggregated_logWs = jnp.cumsum(logWs, axis=0)\n",
    "logZ = logsumexp(aggregated_logWs[-1,:]) - jnp.log(N)\n",
    "print(f\"the estimated logZ is {logZ}; the True logZ is {dG}\")\n"
   ]
  },
  {
   "cell_type": "markdown",
   "metadata": {},
   "source": [
    "let's see if we can't get the twisting functions..."
   ]
  },
  {
   "cell_type": "code",
   "execution_count": 3,
   "metadata": {},
   "outputs": [
    {
     "name": "stdout",
     "output_type": "stream",
     "text": [
      "dict_keys(['utilities', 'ADP'])\n"
     ]
    }
   ],
   "source": [
    "ADP_dict = smc_obj.get_ADP_fn()\n",
    "print(ADP_dict.keys())\n",
    "ADP_fn = ADP_dict['ADP']"
   ]
  },
  {
   "cell_type": "code",
   "execution_count": 4,
   "metadata": {},
   "outputs": [
    {
     "name": "stderr",
     "output_type": "stream",
     "text": [
      "  0%|          | 0/9 [00:00<?, ?it/s]Level 9:absl:get_compile_options: num_replicas=1 num_partitions=1 device_assignment=(0,)\n",
      "Level 9:absl:get_compile_options: num_replicas=1 num_partitions=1 device_assignment=(0,)\n",
      "Level 9:absl:get_compile_options: num_replicas=1 num_partitions=1 device_assignment=(0,)\n",
      "DEBUG:absl:Compiling _where for args (ShapedArray(bool[1,1]), ShapedArray(float64[1,1]), ShapedArray(float64[1,1])).\n",
      "Level 9:absl:get_compile_options: num_replicas=1 num_partitions=1 device_assignment=(0,)\n",
      "100%|██████████| 9/9 [00:04<00:00,  1.85it/s]\n"
     ]
    }
   ],
   "source": [
    "out_dict = ADP_fn(Xs, logWs, prop_params, verbose=True)"
   ]
  },
  {
   "cell_type": "code",
   "execution_count": 6,
   "metadata": {},
   "outputs": [
    {
     "data": {
      "text/plain": [
       "{'losses': array([[2.63589304e-01, 1.80213411e-06],\n",
       "        [1.72694117e+00, 1.47119806e+02],\n",
       "        [1.75937544e+00, 1.50572245e+02],\n",
       "        [1.82587472e+00, 1.56879640e+02],\n",
       "        [1.77235697e+00, 1.52702972e+02],\n",
       "        [1.74360282e+00, 1.51124501e+02],\n",
       "        [1.70710334e+00, 1.47776157e+02],\n",
       "        [1.51841437e+00, 1.30487521e+02],\n",
       "        [1.17127262e+00, 1.00474560e+02],\n",
       "        [6.32672756e-01, 5.47277550e+01]]),\n",
       " 'out_A_params': array([[0.        ],\n",
       "        [0.01714386],\n",
       "        [0.01636685],\n",
       "        [0.0165804 ],\n",
       "        [0.01635617],\n",
       "        [0.0160494 ],\n",
       "        [0.01611148],\n",
       "        [0.01605162],\n",
       "        [0.01428961],\n",
       "        [0.00999279]]),\n",
       " 'out_b_params': array([[ 0.00000000e+00],\n",
       "        [ 4.77967698e-04],\n",
       "        [ 2.81921784e-04],\n",
       "        [-1.87274466e-04],\n",
       "        [-8.60159443e-04],\n",
       "        [ 5.85031529e-05],\n",
       "        [-6.78506955e-04],\n",
       "        [-9.85206710e-04],\n",
       "        [-1.46550472e-03],\n",
       "        [-5.96509005e-04]]),\n",
       " 'out_A0': array([0.01707836]),\n",
       " 'out_b0': array([0.00047673]),\n",
       " 'loss_trace': [[DeviceArray(54.73520582, dtype=float64),\n",
       "   DeviceArray(54.73246888, dtype=float64),\n",
       "   DeviceArray(54.72775501, dtype=float64),\n",
       "   DeviceArray(54.72775501, dtype=float64)],\n",
       "  [DeviceArray(100.51752116, dtype=float64),\n",
       "   DeviceArray(100.50117051, dtype=float64),\n",
       "   DeviceArray(100.47455996, dtype=float64),\n",
       "   DeviceArray(100.47455996, dtype=float64)],\n",
       "  [DeviceArray(130.50454908, dtype=float64),\n",
       "   DeviceArray(130.49806639, dtype=float64),\n",
       "   DeviceArray(130.48752097, dtype=float64)],\n",
       "  [DeviceArray(147.78666381, dtype=float64),\n",
       "   DeviceArray(147.7828206, dtype=float64),\n",
       "   DeviceArray(147.77615651, dtype=float64),\n",
       "   DeviceArray(147.77615651, dtype=float64)],\n",
       "  [DeviceArray(151.12468516, dtype=float64),\n",
       "   DeviceArray(151.12461876, dtype=float64),\n",
       "   DeviceArray(151.12450085, dtype=float64),\n",
       "   DeviceArray(151.12450085, dtype=float64)],\n",
       "  [DeviceArray(152.71687149, dtype=float64),\n",
       "   DeviceArray(152.71185237, dtype=float64),\n",
       "   DeviceArray(152.70297236, dtype=float64),\n",
       "   DeviceArray(152.70297236, dtype=float64)],\n",
       "  [DeviceArray(156.88072878, dtype=float64),\n",
       "   DeviceArray(156.88033712, dtype=float64),\n",
       "   DeviceArray(156.87963972, dtype=float64),\n",
       "   DeviceArray(156.87963972, dtype=float64)],\n",
       "  [DeviceArray(150.57331098, dtype=float64),\n",
       "   DeviceArray(150.57292777, dtype=float64),\n",
       "   DeviceArray(150.57224453, dtype=float64),\n",
       "   DeviceArray(150.57224453, dtype=float64)],\n",
       "  [DeviceArray(147.12275986, dtype=float64),\n",
       "   DeviceArray(147.12165056, dtype=float64),\n",
       "   DeviceArray(147.11980568, dtype=float64),\n",
       "   DeviceArray(147.11980568, dtype=float64)]]}"
      ]
     },
     "execution_count": 6,
     "metadata": {},
     "output_type": "execute_result"
    }
   ],
   "source": [
    "out_dict"
   ]
  },
  {
   "cell_type": "code",
   "execution_count": 6,
   "metadata": {},
   "outputs": [
    {
     "data": {
      "text/plain": [
       "array([[2.63589304e-01, 1.80213411e-06],\n",
       "       [1.72694117e+00, 1.47119806e+02],\n",
       "       [1.75937544e+00, 1.50572245e+02],\n",
       "       [1.82587472e+00, 1.56879640e+02],\n",
       "       [1.77235697e+00, 1.52702972e+02],\n",
       "       [1.74360282e+00, 1.51124501e+02],\n",
       "       [1.70710334e+00, 1.47776157e+02],\n",
       "       [1.51841437e+00, 1.30487521e+02],\n",
       "       [1.17127262e+00, 1.00474560e+02],\n",
       "       [6.32672756e-01, 5.47277550e+01]])"
      ]
     },
     "execution_count": 6,
     "metadata": {},
     "output_type": "execute_result"
    }
   ],
   "source": [
    "out_dict['losses']"
   ]
  },
  {
   "cell_type": "code",
   "execution_count": 23,
   "metadata": {},
   "outputs": [],
   "source": [
    "from melange.csmc import *"
   ]
  },
  {
   "cell_type": "code",
   "execution_count": 26,
   "metadata": {},
   "outputs": [],
   "source": [
    "def test_uncontrolled_csmc(dim=1):\n",
    "    \"\"\"\n",
    "    test a vanilla implementation of uncontrolled sequential monte carlo of a static model with an Euler Maruyama forward/backward kernel.\n",
    "    the cSMC twisted weights should be the same as the uncontrolled SMC weights\n",
    "    \"\"\"\n",
    "    from melange.tests.utils import get_nondefault_potential_initializer, checker_function\n",
    "    from melange.smc import generate_trajs, SIS_logW\n",
    "    from melange.smc_objects import StaticULA\n",
    "    \n",
    "    N,T,Dx = 10000, 1000, dim #define some smc parameters\n",
    "    potential, (mu, cov), dG = get_nondefault_potential_initializer(Dx) #get the potential and the starting distribution parameters\n",
    "    cov = cov[0] #rework the covariance matrix so that it is a vector (squashed diagonal)\n",
    "    dt=1e-2 #timestep\n",
    "    \n",
    "    dummy_A = lambda x, param: jnp.zeros(Dx) #create a dummy A function\n",
    "    dummy_b = lambda x, param: jnp.zeros(Dx) #create adummy b function\n",
    "    \n",
    "    base_smc_obj = StaticULA(N, potential, potential, potential) #define a static ULA object so we can pull the _compute_log_work_function\n",
    "    base_twisted_logW_fn = base_smc_obj.log_weights_fn() #pull out the log weight function of the uncontrolled SMC\n",
    "    \n",
    "    smc_obj= StaticULAControlledSMC(N, \n",
    "                                potential=potential,\n",
    "                                forward_potential=potential, \n",
    "                                backward_potential=potential, \n",
    "                                A_fn = dummy_A, #A_fn=lambda x, p: jnp.zeros((Dx, Dx)), \n",
    "                                b_fn = dummy_b, #b_fn = lambda x, p: jnp.zeros(Dx),\n",
    "                                A_params_len=1,\n",
    "                                b_params_len=1,\n",
    "                                Dx=1,\n",
    "                                T=T\n",
    "                               ) #create a controlled smc class\n",
    "    \n",
    "    prop, logw, (init_Xs, init_logws) = smc_obj.get_fns() #pull the necessary functions from it\n",
    "    potential_params = jnp.linspace(0,1,T)[..., jnp.newaxis] #define the potential parameters\n",
    "    \n",
    "    prop_params = {\n",
    "                   'potential_params': potential_params,\n",
    "                   'forward_potential_params': potential_params,\n",
    "                   'backward_potential_params': potential_params[1:],\n",
    "                   'dt': dt\n",
    "                   } #potential parameters dictionary goes here\n",
    "\n",
    "    init_params = {'mus': jnp.array([mu]), \n",
    "                   'covs': jnp.array([cov]),\n",
    "                   'mixture_weights': jnp.array([1.])} #define the initial params\n",
    "    \n",
    "    model_params=None #there are no model parameters\n",
    "    y=jnp.arange(T) #the y data aren't important. just know that there are the same number of them as there are data\n",
    "    rs = random.PRNGKey(5) #define a random number \n",
    "    \n",
    "    #generate trajectories and assert that (with sufficiently long annealing), the initial and final distributions are appropriately placed\n",
    "    Xs = generate_trajs(prop_params, model_params, y, rs, init_params, init_Xs, prop)\n",
    "    assert np.isclose(Xs[0,:,:].var(), 2., atol=2e-1)\n",
    "    assert np.isclose(Xs[-1,:,:].var(), 1., atol=1e-1)\n",
    "    \n",
    "    #compute weights (there is a problem here because twisting should give me constant offsets that i dont want)\n",
    "    vtwist_fn = smc_obj.vtwist_fn\n",
    "    untwisted_logW_fn = smc_obj.log_weights_fn()\n",
    "    twisted_mus, twisted_covs, logK_Zs, (As, bs) = vtwist_fn(Xs[0], \n",
    "                                                             smc_obj.forward_potential, \n",
    "                                                             prop_params['dt'], \n",
    "                                                             prop_params['forward_potential_params'][0],\n",
    "                                                             smc_obj.A_fn, \n",
    "                                                             smc_obj.b_fn,\n",
    "                                                             smc_obj.A_params_cache[:smc_obj.twisting_iteration],\n",
    "                                                             smc_obj.b_params_cache[:smc_obj.twisting_iteration],\n",
    "                                                             True)\n",
    "    \n",
    "    # assert all of the logK_Zs are close to zero\n",
    "    assert np.allclose(logK_Zs, 0.)\n",
    "    \n",
    "    # assert all twists are zeros\n",
    "    assert np.allclose(As.flatten(), 0.)\n",
    "    assert np.allclose(bs.flatten(), 0.)\n",
    "    \n",
    "    #_just_ do the twisting potential and make sure it is zero\n",
    "    log_psi_ts = smc_obj.vlog_psi_twist(Xs[0], As, bs)\n",
    "    assert np.allclose(log_psi_ts, 0.)\n",
    "    \n",
    "    #compute twisted log weights:\n",
    "    logWs = SIS_logW(Xs, prop_params, model_params, y, init_params, logw, init_logws)\n",
    "    assert np.isclose(logsumexp(logWs[-1,:]) - jnp.log(N), )\n",
    "    \n",
    "    return Xs, logsumexp(logWs[-1,:]) - jnp.log(N)\n",
    "    \n",
    "Xs, logWs = test_null_twist(dim=1)   "
   ]
  },
  {
   "cell_type": "code",
   "execution_count": 27,
   "metadata": {},
   "outputs": [
    {
     "data": {
      "text/plain": [
       "DeviceArray(-0.34411429, dtype=float64)"
      ]
     },
     "execution_count": 27,
     "metadata": {},
     "output_type": "execute_result"
    }
   ],
   "source": [
    "logWs"
   ]
  },
  {
   "cell_type": "code",
   "execution_count": 37,
   "metadata": {},
   "outputs": [
    {
     "data": {
      "text/plain": [
       "<matplotlib.axes._subplots.AxesSubplot at 0x7f9f3c200208>"
      ]
     },
     "execution_count": 37,
     "metadata": {},
     "output_type": "execute_result"
    },
    {
     "data": {
      "image/png": "[encoded data removed]",
      "text/plain": [
       "<Figure size 432x288 with 1 Axes>"
      ]
     },
     "metadata": {
      "needs_background": "light"
     },
     "output_type": "display_data"
    }
   ],
   "source": [
    "sns.distplot(Xs[0,:,:])\n",
    "sns.distplot(Xs[-1,:,:])"
   ]
  },
  {
   "cell_type": "markdown",
   "metadata": {},
   "source": [
    "how will we minimize?\n"
   ]
  },
  {
   "cell_type": "code",
   "execution_count": 12,
   "metadata": {},
   "outputs": [],
   "source": [
    "import numpy as np\n",
    "from scipy.optimize import minimize"
   ]
  },
  {
   "cell_type": "code",
   "execution_count": 13,
   "metadata": {},
   "outputs": [],
   "source": [
    "def rosen(x):\n",
    "    \"\"\"The Rosenbrock function\"\"\"\n",
    "    return sum(100.0*(x[1:]-x[:-1]**2.0)**2.0 + (1-x[:-1])**2.0)\n",
    "jit_rosen=jit(rosen)"
   ]
  },
  {
   "cell_type": "code",
   "execution_count": 14,
   "metadata": {},
   "outputs": [],
   "source": [
    "x0 = np.array([1.3, 0.7, 0.8, 1.9, 1.2])"
   ]
  },
  {
   "cell_type": "code",
   "execution_count": 15,
   "metadata": {},
   "outputs": [
    {
     "data": {
      "text/plain": [
       "848.22"
      ]
     },
     "execution_count": 15,
     "metadata": {},
     "output_type": "execute_result"
    }
   ],
   "source": [
    "rosen(x0)"
   ]
  },
  {
   "cell_type": "code",
   "execution_count": 18,
   "metadata": {},
   "outputs": [],
   "source": [
    "energy_history = []\n",
    "x_values = []\n",
    "def callback(x):\n",
    "    fobj = jit_rosen(x)\n",
    "    energy_history.append(fobj)\n",
    "    x_values.append(x)"
   ]
  },
  {
   "cell_type": "code",
   "execution_count": 19,
   "metadata": {},
   "outputs": [],
   "source": [
    "out = minimize(jit_rosen,x0 = x0, method='L-BFGS-B', options={'disp':1}, callback = callback)"
   ]
  },
  {
   "cell_type": "code",
   "execution_count": 20,
   "metadata": {},
   "outputs": [
    {
     "data": {
      "text/plain": [
       "['fun', 'hess_inv', 'jac', 'message', 'nfev', 'nit', 'status', 'success', 'x']"
      ]
     },
     "execution_count": 20,
     "metadata": {},
     "output_type": "execute_result"
    }
   ],
   "source": [
    "dir(out)"
   ]
  },
  {
   "cell_type": "code",
   "execution_count": 53,
   "metadata": {},
   "outputs": [
    {
     "data": {
      "text/plain": [
       "dtype('float64')"
      ]
     },
     "execution_count": 53,
     "metadata": {},
     "output_type": "execute_result"
    }
   ],
   "source": [
    "out['x'].dtype"
   ]
  },
  {
   "cell_type": "code",
   "execution_count": 10,
   "metadata": {},
   "outputs": [],
   "source": [
    "a = jnp.asarray(np.random.randn(3,3))\n",
    "b = jnp.asarray(np.random.randn(3))"
   ]
  },
  {
   "cell_type": "code",
   "execution_count": 11,
   "metadata": {},
   "outputs": [
    {
     "name": "stderr",
     "output_type": "stream",
     "text": [
      "Level 9:absl:get_compile_options: num_replicas=1 num_partitions=1 device_assignment=(0,)\n"
     ]
    },
    {
     "data": {
      "text/plain": [
       "DeviceArray([[-0.6738118 , -0.71250094, -0.02713342],\n",
       "             [-0.19548071, -0.69893683,  0.36365833],\n",
       "             [-0.39087161,  0.04401595, -1.06750039],\n",
       "             [ 0.09134596,  1.10062331,  1.62327804]], dtype=float64)"
      ]
     },
     "execution_count": 11,
     "metadata": {},
     "output_type": "execute_result"
    }
   ],
   "source": [
    "jnp.vstack((a,b))"
   ]
  },
  {
   "cell_type": "code",
   "execution_count": 14,
   "metadata": {},
   "outputs": [],
   "source": [
    "def square(x):\n",
    "    return (x-1)**2\n",
    "vsquare = vmap(square)\n",
    "out_fn = lambda x: vsquare(x).sum()\n",
    "\n",
    "out = minimize(out_fn, x0 = np.random.randn(3,3)*100, method='L-BFGS-B', options={'disp':True})"
   ]
  },
  {
   "cell_type": "code",
   "execution_count": 15,
   "metadata": {},
   "outputs": [
    {
     "data": {
      "text/plain": [
       "      fun: DeviceArray(2.69886881e-16, dtype=float64)\n",
       " hess_inv: <9x9 LbfgsInvHessProduct with dtype=float64>\n",
       "      jac: array([ 1.51797942e-09, -2.24263495e-09,  8.80799771e-10, -2.55183650e-09,\n",
       "       -4.71546471e-10, -3.77173283e-09,  5.62467847e-10,  2.73691290e-10,\n",
       "       -1.57714653e-09])\n",
       "  message: b'CONVERGENCE: NORM_OF_PROJECTED_GRADIENT_<=_PGTOL'\n",
       "     nfev: 60\n",
       "      nit: 3\n",
       "   status: 0\n",
       "  success: True\n",
       "        x: array([1.        , 0.99999999, 1.        , 0.99999999, 0.99999999,\n",
       "       0.99999999, 1.        , 1.        , 0.99999999])"
      ]
     },
     "execution_count": 15,
     "metadata": {},
     "output_type": "execute_result"
    }
   ],
   "source": [
    "out"
   ]
  },
  {
   "cell_type": "code",
   "execution_count": 18,
   "metadata": {},
   "outputs": [
    {
     "data": {
      "text/plain": [
       "array([[1.        , 0.99999999, 1.        ],\n",
       "       [0.99999999, 0.99999999, 0.99999999],\n",
       "       [1.        , 1.        , 0.99999999]])"
      ]
     },
     "execution_count": 18,
     "metadata": {},
     "output_type": "execute_result"
    }
   ],
   "source": [
    "out['x'].reshape(3,3)"
   ]
  },
  {
   "cell_type": "code",
   "execution_count": 6,
   "metadata": {},
   "outputs": [
    {
     "name": "stderr",
     "output_type": "stream",
     "text": [
      "100%|██████████| 1/1 [00:05<00:00,  5.02s/it]\n"
     ]
    },
    {
     "name": "stdout",
     "output_type": "stream",
     "text": [
      "doing base SIS\n",
      "done\n"
     ]
    }
   ],
   "source": [
    "smc_obj= StaticULAControlledSMC(N, \n",
    "                                potential=potential,\n",
    "                                forward_potential=potential, \n",
    "                                backward_potential=potential, \n",
    "                                A_fn = A_twist_fn, #A_fn=lambda x, p: jnp.zeros((Dx, Dx)), \n",
    "                                b_fn = b_twist_fn, #b_fn = lambda x, p: jnp.zeros(Dx),\n",
    "                                A_params_len=1,\n",
    "                                b_params_len=1,\n",
    "                                Dx=1\n",
    "                               )\n",
    "prop, logw, inits = smc_obj.get_fns()\n",
    "potential_params = jnp.linspace(0,1,T)[..., jnp.newaxis]\n",
    "prop_params = {\n",
    "               'potential_params': potential_params,\n",
    "               'forward_potential_params': potential_params,\n",
    "               'backward_potential_params': potential_params[1:],\n",
    "               'dt': dt\n",
    "               }\n",
    "\n",
    "init_params = {'mus': jnp.array([mu]), \n",
    "               'covs': jnp.array([cov]),\n",
    "               'mixture_weights': jnp.array([1.])}\n",
    "\n",
    "model_params=None\n",
    "y=jnp.zeros(T)\n",
    "rs = random.PRNGKey(10)\n",
    "jSIS_lower_bound = jit(vSIS_lower_bound, static_argnums=(5,6,7))\n",
    "jSIS = jit(SIS, static_argnums=(5,6,7)) #SIS(prop_params, model_params, y,  rs, init_params, prop_fn, logW_fn, init_fns)\n",
    "logZs = []\n",
    "\n",
    "for i in tqdm.trange(1):\n",
    "    rs, run_rs = random.split(rs, 2)\n",
    "    logZ = vSIS_lower_bound(prop_params, model_params, y, run_rs, init_params, prop, logw, inits)\n",
    "    logZs.append(logZ)\n",
    "\n",
    "print(f\"doing base SIS\")\n",
    "Xs, untwisted_logWs = jSIS(prop_params, model_params, y, rs, init_params, prop, logw, inits, aggregate_works=False)\n",
    "print('done')\n",
    "    \n",
    "\n"
   ]
  },
  {
   "cell_type": "code",
   "execution_count": 7,
   "metadata": {},
   "outputs": [
    {
     "data": {
      "text/plain": [
       "-0.3465"
      ]
     },
     "execution_count": 7,
     "metadata": {},
     "output_type": "execute_result"
    }
   ],
   "source": [
    "dG"
   ]
  },
  {
   "cell_type": "code",
   "execution_count": 8,
   "metadata": {},
   "outputs": [
    {
     "data": {
      "text/plain": [
       "DeviceArray(-21.059101, dtype=float32)"
      ]
     },
     "execution_count": 8,
     "metadata": {},
     "output_type": "execute_result"
    }
   ],
   "source": [
    "jnp.array(logZs).mean()"
   ]
  },
  {
   "cell_type": "code",
   "execution_count": 12,
   "metadata": {},
   "outputs": [
    {
     "data": {
      "image/png": "[encoded data removed]",
      "text/plain": [
       "<Figure size 432x288 with 1 Axes>"
      ]
     },
     "metadata": {
      "needs_background": "light"
     },
     "output_type": "display_data"
    }
   ],
   "source": [
    "for i in range(1000):\n",
    "    plt.plot(Xs[:,i,:])"
   ]
  },
  {
   "cell_type": "code",
   "execution_count": null,
   "metadata": {},
   "outputs": [],
   "source": []
  },
  {
   "cell_type": "code",
   "execution_count": 15,
   "metadata": {},
   "outputs": [
    {
     "name": "stderr",
     "output_type": "stream",
     "text": [
      "/home/dominic/anaconda3/envs/openmm/lib/python3.6/site-packages/seaborn/distributions.py:288: UserWarning: Data must have variance to compute a kernel density estimate.\n",
      "  warnings.warn(msg, UserWarning)\n"
     ]
    },
    {
     "data": {
      "text/plain": [
       "<matplotlib.axes._subplots.AxesSubplot at 0x7f1d2db79fd0>"
      ]
     },
     "execution_count": 15,
     "metadata": {},
     "output_type": "execute_result"
    },
    {
     "data": {
      "image/png": "[encoded data removed]",
      "text/plain": [
       "<Figure size 432x288 with 1 Axes>"
      ]
     },
     "metadata": {
      "needs_background": "light"
     },
     "output_type": "display_data"
    }
   ],
   "source": [
    "sns.distplot(random.normal(key=random.PRNGKey(0), shape=(10000,))*jnp.sqrt(cov))\n",
    "sns.distplot(Xs[0,i,:])"
   ]
  },
  {
   "cell_type": "code",
   "execution_count": null,
   "metadata": {},
   "outputs": [],
   "source": []
  },
  {
   "cell_type": "markdown",
   "metadata": {},
   "source": [
    "ok, so this looks ok"
   ]
  },
  {
   "cell_type": "markdown",
   "metadata": {},
   "source": [
    "## for the ADP (lord help me)"
   ]
  },
  {
   "cell_type": "code",
   "execution_count": 9,
   "metadata": {},
   "outputs": [],
   "source": [
    "losses, grad_losses, optimize_fn, ADP_fn = smc_obj.get_ADP_fn()"
   ]
  },
  {
   "cell_type": "code",
   "execution_count": 10,
   "metadata": {},
   "outputs": [
    {
     "name": "stderr",
     "output_type": "stream",
     "text": [
      "  0%|          | 0/9 [00:00<?, ?it/s]"
     ]
    },
    {
     "name": "stdout",
     "output_type": "stream",
     "text": [
      "iterating backward...\n",
      "t: 9; initial loss: 90.28929138183594\n",
      "optimized parameters: {'A_params': DeviceArray([-56.194862], dtype=float32), 'b_params': DeviceArray([-0.14679931], dtype=float32)}\n",
      "twisting A params: [[  0.      ]\n",
      " [-56.194862]]\n",
      "twist b params: [[ 0.        ]\n",
      " [-0.14679931]]\n"
     ]
    },
    {
     "name": "stderr",
     "output_type": "stream",
     "text": [
      " 11%|█         | 1/9 [00:01<00:13,  1.68s/it]"
     ]
    },
    {
     "name": "stdout",
     "output_type": "stream",
     "text": [
      "t: 8; initial loss: 72244168.0\n",
      "optimized parameters: {'A_params': DeviceArray([-55.792953], dtype=float32), 'b_params': DeviceArray([0.01488524], dtype=float32)}\n",
      "twisting A params: [[  0.      ]\n",
      " [-55.792953]]\n",
      "twist b params: [[0.        ]\n",
      " [0.01488524]]\n"
     ]
    },
    {
     "name": "stderr",
     "output_type": "stream",
     "text": [
      " 22%|██▏       | 2/9 [00:01<00:08,  1.24s/it]"
     ]
    },
    {
     "name": "stdout",
     "output_type": "stream",
     "text": [
      "t: 7; initial loss: 73184264.0\n",
      "optimized parameters: {'A_params': DeviceArray([-62.749123], dtype=float32), 'b_params': DeviceArray([0.07351948], dtype=float32)}\n",
      "twisting A params: [[  0.      ]\n",
      " [-62.749123]]\n",
      "twist b params: [[0.        ]\n",
      " [0.07351948]]\n"
     ]
    },
    {
     "name": "stderr",
     "output_type": "stream",
     "text": [
      " 33%|███▎      | 3/9 [00:02<00:05,  1.07it/s]"
     ]
    },
    {
     "name": "stdout",
     "output_type": "stream",
     "text": [
      "t: 6; initial loss: 73946816.0\n",
      "optimized parameters: {'A_params': DeviceArray([-68.571884], dtype=float32), 'b_params': DeviceArray([0.12859744], dtype=float32)}\n",
      "twisting A params: [[  0.      ]\n",
      " [-68.571884]]\n",
      "twist b params: [[0.        ]\n",
      " [0.12859744]]\n"
     ]
    },
    {
     "name": "stderr",
     "output_type": "stream",
     "text": [
      " 44%|████▍     | 4/9 [00:02<00:03,  1.38it/s]"
     ]
    },
    {
     "name": "stdout",
     "output_type": "stream",
     "text": [
      "t: 5; initial loss: 74741664.0\n",
      "optimized parameters: {'A_params': DeviceArray([-74.96388], dtype=float32), 'b_params': DeviceArray([0.06939767], dtype=float32)}\n",
      "twisting A params: [[  0.     ]\n",
      " [-74.96388]]\n",
      "twist b params: [[0.        ]\n",
      " [0.06939767]]\n"
     ]
    },
    {
     "name": "stderr",
     "output_type": "stream",
     "text": [
      " 56%|█████▌    | 5/9 [00:02<00:02,  1.74it/s]"
     ]
    },
    {
     "name": "stdout",
     "output_type": "stream",
     "text": [
      "t: 4; initial loss: 75185112.0\n",
      "optimized parameters: {'A_params': DeviceArray([-78.34155], dtype=float32), 'b_params': DeviceArray([0.23034683], dtype=float32)}\n",
      "twisting A params: [[  0.     ]\n",
      " [-78.34155]]\n",
      "twist b params: [[0.        ]\n",
      " [0.23034683]]\n"
     ]
    },
    {
     "name": "stderr",
     "output_type": "stream",
     "text": [
      " 67%|██████▋   | 6/9 [00:02<00:01,  2.14it/s]"
     ]
    },
    {
     "name": "stdout",
     "output_type": "stream",
     "text": [
      "t: 3; initial loss: 75328984.0\n",
      "optimized parameters: {'A_params': DeviceArray([-78.976166], dtype=float32), 'b_params': DeviceArray([0.65710646], dtype=float32)}\n",
      "twisting A params: [[  0.      ]\n",
      " [-78.976166]]\n",
      "twist b params: [[0.        ]\n",
      " [0.65710646]]\n"
     ]
    },
    {
     "name": "stderr",
     "output_type": "stream",
     "text": [
      " 78%|███████▊  | 7/9 [00:03<00:00,  2.50it/s]"
     ]
    },
    {
     "name": "stdout",
     "output_type": "stream",
     "text": [
      "t: 2; initial loss: 75302760.0\n"
     ]
    },
    {
     "name": "stderr",
     "output_type": "stream",
     "text": [
      " 89%|████████▉ | 8/9 [00:03<00:00,  2.78it/s]"
     ]
    },
    {
     "name": "stdout",
     "output_type": "stream",
     "text": [
      "optimized parameters: {'A_params': DeviceArray([-78.01529], dtype=float32), 'b_params': DeviceArray([0.8420237], dtype=float32)}\n",
      "twisting A params: [[  0.     ]\n",
      " [-78.01529]]\n",
      "twist b params: [[0.       ]\n",
      " [0.8420237]]\n",
      "t: 1; initial loss: 75218032.0\n"
     ]
    },
    {
     "name": "stderr",
     "output_type": "stream",
     "text": [
      "100%|██████████| 9/9 [00:03<00:00,  2.55it/s]"
     ]
    },
    {
     "name": "stdout",
     "output_type": "stream",
     "text": [
      "optimized parameters: {'A_params': DeviceArray([-76.50562], dtype=float32), 'b_params': DeviceArray([0.9285487], dtype=float32)}\n",
      "twisting A params: [[  0.     ]\n",
      " [-76.50562]]\n",
      "twist b params: [[0.       ]\n",
      " [0.9285487]]\n"
     ]
    },
    {
     "name": "stderr",
     "output_type": "stream",
     "text": [
      "\n"
     ]
    }
   ],
   "source": [
    "new_param_dct, losses_arr, init_losses_arr = ADP_fn(Xs, \n",
    "                                                    random.PRNGKey(42), \n",
    "                                                    untwisted_logWs, \n",
    "                                                    prop_params, \n",
    "                                                    init_params, \n",
    "                                                    opt_steps=1000,\n",
    "                                                    learning_rates_0={'A0': 1e-5, 'b0': 1e-5})"
   ]
  },
  {
   "cell_type": "code",
   "execution_count": 11,
   "metadata": {},
   "outputs": [],
   "source": [
    "smc_obj.update_twist(new_param_dct)"
   ]
  },
  {
   "cell_type": "markdown",
   "metadata": {},
   "source": [
    "let's check the smc object"
   ]
  },
  {
   "cell_type": "code",
   "execution_count": 12,
   "metadata": {},
   "outputs": [
    {
     "name": "stdout",
     "output_type": "stream",
     "text": [
      "1\n",
      "[[nan]]\n",
      "[nan]\n",
      "[[[  0.      ]\n",
      "  [-76.50562 ]\n",
      "  [-78.01529 ]\n",
      "  [-78.976166]\n",
      "  [-78.34155 ]\n",
      "  [-74.96388 ]\n",
      "  [-68.571884]\n",
      "  [-62.749123]\n",
      "  [-55.792953]\n",
      "  [-56.194862]]\n",
      "\n",
      " [[  0.      ]\n",
      "  [  0.      ]\n",
      "  [  0.      ]\n",
      "  [  0.      ]\n",
      "  [  0.      ]\n",
      "  [  0.      ]\n",
      "  [  0.      ]\n",
      "  [  0.      ]\n",
      "  [  0.      ]\n",
      "  [  0.      ]]\n",
      "\n",
      " [[  0.      ]\n",
      "  [  0.      ]\n",
      "  [  0.      ]\n",
      "  [  0.      ]\n",
      "  [  0.      ]\n",
      "  [  0.      ]\n",
      "  [  0.      ]\n",
      "  [  0.      ]\n",
      "  [  0.      ]\n",
      "  [  0.      ]]\n",
      "\n",
      " [[  0.      ]\n",
      "  [  0.      ]\n",
      "  [  0.      ]\n",
      "  [  0.      ]\n",
      "  [  0.      ]\n",
      "  [  0.      ]\n",
      "  [  0.      ]\n",
      "  [  0.      ]\n",
      "  [  0.      ]\n",
      "  [  0.      ]]\n",
      "\n",
      " [[  0.      ]\n",
      "  [  0.      ]\n",
      "  [  0.      ]\n",
      "  [  0.      ]\n",
      "  [  0.      ]\n",
      "  [  0.      ]\n",
      "  [  0.      ]\n",
      "  [  0.      ]\n",
      "  [  0.      ]\n",
      "  [  0.      ]]\n",
      "\n",
      " [[  0.      ]\n",
      "  [  0.      ]\n",
      "  [  0.      ]\n",
      "  [  0.      ]\n",
      "  [  0.      ]\n",
      "  [  0.      ]\n",
      "  [  0.      ]\n",
      "  [  0.      ]\n",
      "  [  0.      ]\n",
      "  [  0.      ]]\n",
      "\n",
      " [[  0.      ]\n",
      "  [  0.      ]\n",
      "  [  0.      ]\n",
      "  [  0.      ]\n",
      "  [  0.      ]\n",
      "  [  0.      ]\n",
      "  [  0.      ]\n",
      "  [  0.      ]\n",
      "  [  0.      ]\n",
      "  [  0.      ]]\n",
      "\n",
      " [[  0.      ]\n",
      "  [  0.      ]\n",
      "  [  0.      ]\n",
      "  [  0.      ]\n",
      "  [  0.      ]\n",
      "  [  0.      ]\n",
      "  [  0.      ]\n",
      "  [  0.      ]\n",
      "  [  0.      ]\n",
      "  [  0.      ]]\n",
      "\n",
      " [[  0.      ]\n",
      "  [  0.      ]\n",
      "  [  0.      ]\n",
      "  [  0.      ]\n",
      "  [  0.      ]\n",
      "  [  0.      ]\n",
      "  [  0.      ]\n",
      "  [  0.      ]\n",
      "  [  0.      ]\n",
      "  [  0.      ]]\n",
      "\n",
      " [[  0.      ]\n",
      "  [  0.      ]\n",
      "  [  0.      ]\n",
      "  [  0.      ]\n",
      "  [  0.      ]\n",
      "  [  0.      ]\n",
      "  [  0.      ]\n",
      "  [  0.      ]\n",
      "  [  0.      ]\n",
      "  [  0.      ]]]\n",
      "[[[ 0.        ]\n",
      "  [ 0.9285487 ]\n",
      "  [ 0.8420237 ]\n",
      "  [ 0.65710646]\n",
      "  [ 0.23034683]\n",
      "  [ 0.06939767]\n",
      "  [ 0.12859744]\n",
      "  [ 0.07351948]\n",
      "  [ 0.01488524]\n",
      "  [-0.14679931]]\n",
      "\n",
      " [[ 0.        ]\n",
      "  [ 0.        ]\n",
      "  [ 0.        ]\n",
      "  [ 0.        ]\n",
      "  [ 0.        ]\n",
      "  [ 0.        ]\n",
      "  [ 0.        ]\n",
      "  [ 0.        ]\n",
      "  [ 0.        ]\n",
      "  [ 0.        ]]\n",
      "\n",
      " [[ 0.        ]\n",
      "  [ 0.        ]\n",
      "  [ 0.        ]\n",
      "  [ 0.        ]\n",
      "  [ 0.        ]\n",
      "  [ 0.        ]\n",
      "  [ 0.        ]\n",
      "  [ 0.        ]\n",
      "  [ 0.        ]\n",
      "  [ 0.        ]]\n",
      "\n",
      " [[ 0.        ]\n",
      "  [ 0.        ]\n",
      "  [ 0.        ]\n",
      "  [ 0.        ]\n",
      "  [ 0.        ]\n",
      "  [ 0.        ]\n",
      "  [ 0.        ]\n",
      "  [ 0.        ]\n",
      "  [ 0.        ]\n",
      "  [ 0.        ]]\n",
      "\n",
      " [[ 0.        ]\n",
      "  [ 0.        ]\n",
      "  [ 0.        ]\n",
      "  [ 0.        ]\n",
      "  [ 0.        ]\n",
      "  [ 0.        ]\n",
      "  [ 0.        ]\n",
      "  [ 0.        ]\n",
      "  [ 0.        ]\n",
      "  [ 0.        ]]\n",
      "\n",
      " [[ 0.        ]\n",
      "  [ 0.        ]\n",
      "  [ 0.        ]\n",
      "  [ 0.        ]\n",
      "  [ 0.        ]\n",
      "  [ 0.        ]\n",
      "  [ 0.        ]\n",
      "  [ 0.        ]\n",
      "  [ 0.        ]\n",
      "  [ 0.        ]]\n",
      "\n",
      " [[ 0.        ]\n",
      "  [ 0.        ]\n",
      "  [ 0.        ]\n",
      "  [ 0.        ]\n",
      "  [ 0.        ]\n",
      "  [ 0.        ]\n",
      "  [ 0.        ]\n",
      "  [ 0.        ]\n",
      "  [ 0.        ]\n",
      "  [ 0.        ]]\n",
      "\n",
      " [[ 0.        ]\n",
      "  [ 0.        ]\n",
      "  [ 0.        ]\n",
      "  [ 0.        ]\n",
      "  [ 0.        ]\n",
      "  [ 0.        ]\n",
      "  [ 0.        ]\n",
      "  [ 0.        ]\n",
      "  [ 0.        ]\n",
      "  [ 0.        ]]\n",
      "\n",
      " [[ 0.        ]\n",
      "  [ 0.        ]\n",
      "  [ 0.        ]\n",
      "  [ 0.        ]\n",
      "  [ 0.        ]\n",
      "  [ 0.        ]\n",
      "  [ 0.        ]\n",
      "  [ 0.        ]\n",
      "  [ 0.        ]\n",
      "  [ 0.        ]]\n",
      "\n",
      " [[ 0.        ]\n",
      "  [ 0.        ]\n",
      "  [ 0.        ]\n",
      "  [ 0.        ]\n",
      "  [ 0.        ]\n",
      "  [ 0.        ]\n",
      "  [ 0.        ]\n",
      "  [ 0.        ]\n",
      "  [ 0.        ]\n",
      "  [ 0.        ]]]\n"
     ]
    }
   ],
   "source": [
    "print(smc_obj.twisting_iteration)\n",
    "print(smc_obj.A0)\n",
    "print(smc_obj.b0)\n",
    "print(smc_obj.A_params_cache)\n",
    "print(smc_obj.b_params_cache)"
   ]
  },
  {
   "cell_type": "markdown",
   "metadata": {},
   "source": [
    "ok, can we try to run a twisted iteration?"
   ]
  },
  {
   "cell_type": "code",
   "execution_count": 13,
   "metadata": {},
   "outputs": [],
   "source": [
    "prop, logw, inits = smc_obj.get_fns()"
   ]
  },
  {
   "cell_type": "code",
   "execution_count": 14,
   "metadata": {},
   "outputs": [],
   "source": [
    "jSIS_lower_bound = jit(vSIS_lower_bound, static_argnums=(5,6,7))"
   ]
  },
  {
   "cell_type": "code",
   "execution_count": 15,
   "metadata": {},
   "outputs": [
    {
     "name": "stderr",
     "output_type": "stream",
     "text": [
      "100%|██████████| 100/100 [00:03<00:00, 27.90it/s]\n"
     ]
    },
    {
     "name": "stdout",
     "output_type": "stream",
     "text": [
      "doing base SIS\n",
      "done\n"
     ]
    }
   ],
   "source": [
    "rs = random.PRNGKey(34)\n",
    "twist_logZs = []\n",
    "for i in tqdm.trange(100):\n",
    "    rs, run_rs = random.split(rs, 2)\n",
    "    logZ = jSIS_lower_bound(prop_params, model_params, y, run_rs, init_params, prop, logw, inits)\n",
    "    twist_logZs.append(logZ)\n",
    "\n",
    "print(f\"doing base SIS\")\n",
    "Xs, twisted_logWs = jSIS(prop_params, model_params, y, rs, init_params, prop, logw, inits, aggregate_works=False)\n",
    "print('done')\n",
    "    \n"
   ]
  },
  {
   "cell_type": "code",
   "execution_count": 16,
   "metadata": {},
   "outputs": [
    {
     "data": {
      "text/plain": [
       "(10, 1000)"
      ]
     },
     "execution_count": 16,
     "metadata": {},
     "output_type": "execute_result"
    }
   ],
   "source": [
    "twisted_logWs.shape"
   ]
  },
  {
   "cell_type": "code",
   "execution_count": 17,
   "metadata": {},
   "outputs": [
    {
     "data": {
      "text/plain": [
       "DeviceArray(-0.34653977, dtype=float32)"
      ]
     },
     "execution_count": 17,
     "metadata": {},
     "output_type": "execute_result"
    }
   ],
   "source": [
    "jnp.array(twist_logZs).mean()"
   ]
  },
  {
   "cell_type": "code",
   "execution_count": 18,
   "metadata": {},
   "outputs": [
    {
     "data": {
      "text/plain": [
       "Text(0, 0.5, 'density')"
      ]
     },
     "execution_count": 18,
     "metadata": {},
     "output_type": "execute_result"
    },
    {
     "data": {
      "image/png": "[encoded data removed]",
      "text/plain": [
       "<Figure size 432x288 with 1 Axes>"
      ]
     },
     "metadata": {
      "needs_background": "light"
     },
     "output_type": "display_data"
    }
   ],
   "source": [
    "sns.distplot(logZs, label='uncontrolled SMC')\n",
    "sns.distplot(twist_logZs, label='controlled SMC (1 twist)')\n",
    "plt.vlines(dG, 0,800, label='true log evidence')\n",
    "plt.ylim(0,800)\n",
    "plt.legend()\n",
    "plt.xlabel(f\"log evidence\")\n",
    "plt.ylabel(f\"density\")"
   ]
  },
  {
   "cell_type": "code",
   "execution_count": 19,
   "metadata": {},
   "outputs": [],
   "source": [
    "losses, grad_losses, optimize_fn, ADP_fn = smc_obj.get_ADP_fn()"
   ]
  },
  {
   "cell_type": "code",
   "execution_count": 20,
   "metadata": {},
   "outputs": [
    {
     "name": "stderr",
     "output_type": "stream",
     "text": [
      "  0%|          | 0/9 [00:00<?, ?it/s]"
     ]
    },
    {
     "name": "stdout",
     "output_type": "stream",
     "text": [
      "iterating backward...\n",
      "t: 9; initial loss: 2.352574586868286\n",
      "optimized parameters: {'A_params': DeviceArray([0.02777491], dtype=float32), 'b_params': DeviceArray([0.00017573], dtype=float32)}\n",
      "twisting A params: [[0.02761868]\n",
      " [0.02777491]]\n",
      "twist b params: [[-0.00014188]\n",
      " [ 0.00017573]]\n"
     ]
    },
    {
     "name": "stderr",
     "output_type": "stream",
     "text": [
      " 11%|█         | 1/9 [00:00<00:02,  3.46it/s]"
     ]
    },
    {
     "name": "stdout",
     "output_type": "stream",
     "text": [
      "t: 8; initial loss: 19.79930877685547\n",
      "optimized parameters: {'A_params': DeviceArray([0.08117654], dtype=float32), 'b_params': DeviceArray([-0.00045195], dtype=float32)}\n",
      "twisting A params: [[0.05527914]\n",
      " [0.08117654]]\n",
      "twist b params: [[-0.00018345]\n",
      " [-0.00045195]]\n"
     ]
    },
    {
     "name": "stderr",
     "output_type": "stream",
     "text": [
      " 22%|██▏       | 2/9 [00:00<00:01,  3.67it/s]"
     ]
    },
    {
     "name": "stdout",
     "output_type": "stream",
     "text": [
      "t: 7; initial loss: 76.38909912109375\n",
      "optimized parameters: {'A_params': DeviceArray([0.1611653], dtype=float32), 'b_params': DeviceArray([-0.00200456], dtype=float32)}\n",
      "twisting A params: [[0.0828969]\n",
      " [0.1611653]]\n",
      "twist b params: [[-4.7316571e-05]\n",
      " [-2.0045561e-03]]\n"
     ]
    },
    {
     "name": "stderr",
     "output_type": "stream",
     "text": [
      " 33%|███▎      | 3/9 [00:00<00:01,  3.78it/s]"
     ]
    },
    {
     "name": "stdout",
     "output_type": "stream",
     "text": [
      "t: 6; initial loss: 210.3072967529297\n",
      "optimized parameters: {'A_params': DeviceArray([0.2689866], dtype=float32), 'b_params': DeviceArray([-0.00059998], dtype=float32)}\n",
      "twisting A params: [[0.11011182]\n",
      " [0.2689866 ]]\n",
      "twist b params: [[ 0.00012336]\n",
      " [-0.00059998]]\n"
     ]
    },
    {
     "name": "stderr",
     "output_type": "stream",
     "text": [
      " 44%|████▍     | 4/9 [00:01<00:01,  3.84it/s]"
     ]
    },
    {
     "name": "stdout",
     "output_type": "stream",
     "text": [
      "t: 5; initial loss: 468.725830078125\n",
      "optimized parameters: {'A_params': DeviceArray([0.39778167], dtype=float32), 'b_params': DeviceArray([-0.0009053], dtype=float32)}\n",
      "twisting A params: [[0.1369963 ]\n",
      " [0.39778167]]\n",
      "twist b params: [[ 0.00011628]\n",
      " [-0.0009053 ]]\n"
     ]
    },
    {
     "name": "stderr",
     "output_type": "stream",
     "text": [
      " 56%|█████▌    | 5/9 [00:01<00:01,  3.99it/s]"
     ]
    },
    {
     "name": "stdout",
     "output_type": "stream",
     "text": [
      "t: 4; initial loss: 872.512939453125\n",
      "optimized parameters: {'A_params': DeviceArray([0.55107117], dtype=float32), 'b_params': DeviceArray([0.00042376], dtype=float32)}\n",
      "twisting A params: [[0.16334553]\n",
      " [0.55107117]]\n",
      "twist b params: [[2.3297016e-05]\n",
      " [4.2376152e-04]]\n"
     ]
    },
    {
     "name": "stderr",
     "output_type": "stream",
     "text": [
      " 67%|██████▋   | 6/9 [00:01<00:00,  4.06it/s]"
     ]
    },
    {
     "name": "stdout",
     "output_type": "stream",
     "text": [
      "t: 3; initial loss: 1513.4588623046875\n",
      "optimized parameters: {'A_params': DeviceArray([0.7302874], dtype=float32), 'b_params': DeviceArray([0.00440207], dtype=float32)}\n",
      "twisting A params: [[0.18970983]\n",
      " [0.7302874 ]]\n",
      "twist b params: [[0.00049331]\n",
      " [0.00440207]]\n"
     ]
    },
    {
     "name": "stderr",
     "output_type": "stream",
     "text": [
      " 78%|███████▊  | 7/9 [00:01<00:00,  4.04it/s]"
     ]
    },
    {
     "name": "stdout",
     "output_type": "stream",
     "text": [
      "t: 2; initial loss: 2498.88427734375\n",
      "optimized parameters: {'A_params': DeviceArray([0.92457175], dtype=float32), 'b_params': DeviceArray([0.00066601], dtype=float32)}\n",
      "twisting A params: [[0.2155855 ]\n",
      " [0.92457175]]\n",
      "twist b params: [[0.00104538]\n",
      " [0.00066601]]\n"
     ]
    },
    {
     "name": "stderr",
     "output_type": "stream",
     "text": [
      " 89%|████████▉ | 8/9 [00:01<00:00,  4.13it/s]"
     ]
    },
    {
     "name": "stdout",
     "output_type": "stream",
     "text": [
      "t: 1; initial loss: 3782.283935546875\n",
      "optimized parameters: {'A_params': DeviceArray([1.1399895], dtype=float32), 'b_params': DeviceArray([-0.00361299], dtype=float32)}\n",
      "twisting A params: [[0.24124295]\n",
      " [1.1399895 ]]\n",
      "twist b params: [[ 0.0016072 ]\n",
      " [-0.00361299]]\n"
     ]
    },
    {
     "name": "stderr",
     "output_type": "stream",
     "text": [
      "100%|██████████| 9/9 [00:02<00:00,  4.10it/s]\n"
     ]
    }
   ],
   "source": [
    "new_param_dct, losses_arr, init_losses_arr = ADP_fn(Xs, \n",
    "                                                    random.PRNGKey(42), \n",
    "                                                    twisted_logWs, \n",
    "                                                    prop_params, \n",
    "                                                    init_params, \n",
    "                                                    opt_steps=1000,\n",
    "                                                    learning_rates_0={'A0': 1e-5, 'b0': 1e-5})"
   ]
  },
  {
   "cell_type": "code",
   "execution_count": 26,
   "metadata": {},
   "outputs": [
    {
     "data": {
      "text/plain": [
       "DeviceArray([[4.5078994e+03, 3.9918843e+03, 3.5360549e+03, ...,\n",
       "              8.0459534e+01, 8.0459534e+01, 8.0459534e+01],\n",
       "             [3.7822839e+03, 3.3549795e+03, 2.9760068e+03, ...,\n",
       "              3.0151620e+00, 3.0151620e+00, 3.0151620e+00],\n",
       "             [2.4988843e+03, 2.2155190e+03, 1.9643240e+03, ...,\n",
       "              2.2535410e+00, 2.2535410e+00, 2.2535410e+00],\n",
       "             ...,\n",
       "             [7.6389099e+01, 6.7769112e+01, 6.0128262e+01, ...,\n",
       "              4.8120111e-01, 4.8120111e-01, 4.8120111e-01],\n",
       "             [1.9799309e+01, 1.7551268e+01, 1.5562107e+01, ...,\n",
       "              2.7208564e-01, 2.7208564e-01, 2.7208564e-01],\n",
       "             [2.3525746e+00, 2.0999529e+00, 1.8758588e+00, ...,\n",
       "              1.1430583e-01, 1.1430583e-01, 1.1430583e-01]],            dtype=float32)"
      ]
     },
     "execution_count": 26,
     "metadata": {},
     "output_type": "execute_result"
    }
   ],
   "source": [
    "losses_arr"
   ]
  },
  {
   "cell_type": "code",
   "execution_count": 21,
   "metadata": {},
   "outputs": [],
   "source": [
    "smc_obj.update_twist(new_param_dct)"
   ]
  },
  {
   "cell_type": "code",
   "execution_count": 22,
   "metadata": {},
   "outputs": [
    {
     "data": {
      "text/plain": [
       "{'A0': DeviceArray([[1.2154009]], dtype=float32),\n",
       " 'b0': DeviceArray([0.00343322], dtype=float32),\n",
       " 'A_params': DeviceArray([[0.        ],\n",
       "              [1.1399895 ],\n",
       "              [0.92457175],\n",
       "              [0.7302874 ],\n",
       "              [0.55107117],\n",
       "              [0.39778167],\n",
       "              [0.2689866 ],\n",
       "              [0.1611653 ],\n",
       "              [0.08117654],\n",
       "              [0.02777491]], dtype=float32),\n",
       " 'b_params': DeviceArray([[ 0.        ],\n",
       "              [-0.00361299],\n",
       "              [ 0.00066601],\n",
       "              [ 0.00440207],\n",
       "              [ 0.00042376],\n",
       "              [-0.0009053 ],\n",
       "              [-0.00059998],\n",
       "              [-0.00200456],\n",
       "              [-0.00045195],\n",
       "              [ 0.00017573]], dtype=float32)}"
      ]
     },
     "execution_count": 22,
     "metadata": {},
     "output_type": "execute_result"
    }
   ],
   "source": [
    "new_param_dct"
   ]
  },
  {
   "cell_type": "code",
   "execution_count": 29,
   "metadata": {},
   "outputs": [
    {
     "data": {
      "text/plain": [
       "DeviceArray(2.3525746, dtype=float32)"
      ]
     },
     "execution_count": 29,
     "metadata": {},
     "output_type": "execute_result"
    }
   ],
   "source": [
    "(twisted_logWs[-1]**2).sum()"
   ]
  },
  {
   "cell_type": "markdown",
   "metadata": {},
   "source": [
    "ok, can we twist this again?!, but for safety's sake, let's try to do it manually. but first, let's plot the twisted logWs"
   ]
  },
  {
   "cell_type": "code",
   "execution_count": 23,
   "metadata": {},
   "outputs": [],
   "source": [
    "cum_twist_logWs = jnp.cumsum(twisted_logWs, axis=0)"
   ]
  },
  {
   "cell_type": "code",
   "execution_count": 28,
   "metadata": {},
   "outputs": [
    {
     "data": {
      "image/png": "[encoded data removed]",
      "text/plain": [
       "<Figure size 432x288 with 1 Axes>"
      ]
     },
     "metadata": {
      "needs_background": "light"
     },
     "output_type": "display_data"
    }
   ],
   "source": [
    "for i in range(1000):\n",
    "    plt.plot(cum_twist_logWs[:,i])"
   ]
  },
  {
   "cell_type": "markdown",
   "metadata": {},
   "source": [
    "ok, now let's try to twist these...."
   ]
  },
  {
   "cell_type": "code",
   "execution_count": 31,
   "metadata": {},
   "outputs": [],
   "source": [
    "start_A_twist_params = smc_obj.A_params_cache[0]\n",
    "start_b_twist_params = smc_obj.b_params_cache[0]"
   ]
  },
  {
   "cell_type": "code",
   "execution_count": 31,
   "metadata": {},
   "outputs": [],
   "source": [
    "logK_int_twists = jnp.zeros(smc_obj.N)"
   ]
  },
  {
   "cell_type": "code",
   "execution_count": 32,
   "metadata": {},
   "outputs": [],
   "source": [
    "Vbar_ts = -twisted_logWs[9] - logK_int_twists"
   ]
  },
  {
   "cell_type": "code",
   "execution_count": 33,
   "metadata": {},
   "outputs": [
    {
     "ename": "NameError",
     "evalue": "name 't' is not defined",
     "output_type": "error",
     "traceback": [
      "\u001b[0;31m---------------------------------------------------------------------------\u001b[0m",
      "\u001b[0;31mNameError\u001b[0m                                 Traceback (most recent call last)",
      "\u001b[0;32m<ipython-input-33-02030d44fefa>\u001b[0m in \u001b[0;36m<module>\u001b[0;34m\u001b[0m\n\u001b[0;32m----> 1\u001b[0;31m \u001b[0mVbar_ts\u001b[0m\u001b[0;34m[\u001b[0m\u001b[0mt\u001b[0m\u001b[0;34m]\u001b[0m\u001b[0;34m\u001b[0m\u001b[0;34m\u001b[0m\u001b[0m\n\u001b[0m",
      "\u001b[0;31mNameError\u001b[0m: name 't' is not defined"
     ]
    }
   ],
   "source": []
  },
  {
   "cell_type": "code",
   "execution_count": 34,
   "metadata": {},
   "outputs": [
    {
     "data": {
      "text/plain": [
       "DeviceArray(2.3525746, dtype=float32)"
      ]
     },
     "execution_count": 34,
     "metadata": {},
     "output_type": "execute_result"
    }
   ],
   "source": [
    "(Vbar_ts**2).sum()"
   ]
  },
  {
   "cell_type": "code",
   "execution_count": 35,
   "metadata": {},
   "outputs": [],
   "source": [
    "from jax import value_and_grad\n",
    "def loss_t(params, Xps, Xcs, Vbars):\n",
    "    As, bs = params\n",
    "    return ((-smc_obj.vlog_psi_t_twist(Xps, Xcs, smc_obj.base_A_fn, smc_obj.base_b_fn, As, bs) - Vbars)**2).sum()\n",
    "val_and_grad_loss = jit(value_and_grad(loss_t))"
   ]
  },
  {
   "cell_type": "code",
   "execution_count": 36,
   "metadata": {},
   "outputs": [
    {
     "name": "stderr",
     "output_type": "stream",
     "text": [
      "100%|██████████| 1000/1000 [00:02<00:00, 384.48it/s]\n"
     ]
    }
   ],
   "source": [
    "start_params = (jnp.zeros(1), jnp.zeros(1))\n",
    "lr=1e-6\n",
    "import tqdm\n",
    "losses = []\n",
    "for epoch in tqdm.trange(1000):\n",
    "    loss, grads = val_and_grad_loss(start_params, Xs[8], Xs[9], Vbar_ts)\n",
    "    losses.append(loss)\n",
    "    As, bs = start_params\n",
    "    As = As - grads[0]*lr\n",
    "    bs = bs - grads[1]*lr\n",
    "    start_params = (As, bs)"
   ]
  },
  {
   "cell_type": "code",
   "execution_count": 37,
   "metadata": {},
   "outputs": [
    {
     "data": {
      "text/plain": [
       "(DeviceArray([0.02768037], dtype=float32),\n",
       " DeviceArray([-6.7175526e-05], dtype=float32))"
      ]
     },
     "execution_count": 37,
     "metadata": {},
     "output_type": "execute_result"
    }
   ],
   "source": [
    "start_params"
   ]
  },
  {
   "cell_type": "code",
   "execution_count": 38,
   "metadata": {},
   "outputs": [
    {
     "data": {
      "text/plain": [
       "[<matplotlib.lines.Line2D at 0x7fd95e32e160>]"
      ]
     },
     "execution_count": 38,
     "metadata": {},
     "output_type": "execute_result"
    },
    {
     "data": {
      "image/png": "[encoded data removed]",
      "text/plain": [
       "<Figure size 432x288 with 1 Axes>"
      ]
     },
     "metadata": {
      "needs_background": "light"
     },
     "output_type": "display_data"
    }
   ],
   "source": [
    "plt.plot(losses)"
   ]
  },
  {
   "cell_type": "code",
   "execution_count": null,
   "metadata": {},
   "outputs": [],
   "source": []
  },
  {
   "cell_type": "code",
   "execution_count": null,
   "metadata": {},
   "outputs": [],
   "source": []
  },
  {
   "cell_type": "code",
   "execution_count": 158,
   "metadata": {},
   "outputs": [],
   "source": [
    "def new_potential(pos, parameter):\n",
    "    mod_parameter = parameter[0]\n",
    "    dim = pos.shape[0]\n",
    "    x0 = jnp.ones(pos.shape)\n",
    "    x1 = x0*1.5\n",
    "    k0, k1 = 0.5 * jnp.diag(jnp.ones(dim)), 4.*jnp.diag(jnp.ones(dim))\n",
    "    start_pot = 0.5*(1. - mod_parameter) * jnp.dot(jnp.dot(pos, k0), pos)\n",
    "    end_pot = mod_parameter*((pos**4).sum() - 8*(pos**2).sum())\n",
    "    return start_pot + end_pot"
   ]
  },
  {
   "cell_type": "code",
   "execution_count": null,
   "metadata": {},
   "outputs": [],
   "source": []
  },
  {
   "cell_type": "code",
   "execution_count": 159,
   "metadata": {},
   "outputs": [],
   "source": [
    "vnew_potential = vmap(new_potential, in_axes=(0, None))"
   ]
  },
  {
   "cell_type": "code",
   "execution_count": 160,
   "metadata": {},
   "outputs": [],
   "source": [
    "energies = vnew_potential(supports[..., jnp.newaxis], jnp.array([0.]))\n",
    "new_energies = vnew_potential(supports[..., jnp.newaxis], jnp.array([1.]))"
   ]
  },
  {
   "cell_type": "code",
   "execution_count": 182,
   "metadata": {},
   "outputs": [],
   "source": [
    "def make_gmm_potential(x, parameters):\n",
    "    xpos = x[0]\n",
    "    return -1.*jnp.log(0.3*jnp.exp(-0.5*(xpos+2)**2) \n",
    "                   + 0.4*jnp.exp(-0.2*(xpos+1.)**2)\n",
    "                   + 0.3*jnp.exp(-0.7*(xpos-4.)**2)\n",
    "                   + jnp.exp(-1*(xpos-3.)**2)\n",
    "                  )"
   ]
  },
  {
   "cell_type": "code",
   "execution_count": 183,
   "metadata": {},
   "outputs": [],
   "source": [
    "vgmm = vmap(make_gmm_potential, in_axes=(0,None))"
   ]
  },
  {
   "cell_type": "code",
   "execution_count": 184,
   "metadata": {},
   "outputs": [],
   "source": [
    "nergies = vgmm(supports[..., jnp.newaxis], jnp.array([0.]))"
   ]
  },
  {
   "cell_type": "code",
   "execution_count": 185,
   "metadata": {},
   "outputs": [
    {
     "data": {
      "text/plain": [
       "[<matplotlib.lines.Line2D at 0x7fac94c63080>]"
      ]
     },
     "execution_count": 185,
     "metadata": {},
     "output_type": "execute_result"
    },
    {
     "data": {
      "image/png": "[encoded data removed]",
      "text/plain": [
       "<Figure size 432x288 with 1 Axes>"
      ]
     },
     "metadata": {
      "needs_background": "light"
     },
     "output_type": "display_data"
    }
   ],
   "source": [
    "plt.plot(supports, energies)\n",
    "plt.plot(supports, nergies.flatten())"
   ]
  },
  {
   "cell_type": "code",
   "execution_count": 241,
   "metadata": {},
   "outputs": [
    {
     "data": {
      "text/plain": [
       "DeviceArray([], dtype=float32)"
      ]
     },
     "execution_count": 241,
     "metadata": {},
     "output_type": "execute_result"
    }
   ],
   "source": [
    "jnp.zeros((1,1,1))[:0,5,:]"
   ]
  },
  {
   "cell_type": "code",
   "execution_count": 243,
   "metadata": {},
   "outputs": [],
   "source": [
    "blank = jnp.array([])\n",
    "a = jnp.zeros(3)"
   ]
  },
  {
   "cell_type": "code",
   "execution_count": null,
   "metadata": {},
   "outputs": [],
   "source": [
    "jnp.vstack((blank))"
   ]
  },
  {
   "cell_type": "code",
   "execution_count": 244,
   "metadata": {},
   "outputs": [
    {
     "ename": "ValueError",
     "evalue": "Need at least one array to concatenate.",
     "output_type": "error",
     "traceback": [
      "\u001b[0;31m---------------------------------------------------------------------------\u001b[0m",
      "\u001b[0;31mValueError\u001b[0m                                Traceback (most recent call last)",
      "\u001b[0;32m<ipython-input-244-12efcb947f1a>\u001b[0m in \u001b[0;36m<module>\u001b[0;34m\u001b[0m\n\u001b[0;32m----> 1\u001b[0;31m \u001b[0mjnp\u001b[0m\u001b[0;34m.\u001b[0m\u001b[0mconcatenate\u001b[0m\u001b[0;34m(\u001b[0m\u001b[0mblank\u001b[0m\u001b[0;34m,\u001b[0m \u001b[0ma\u001b[0m\u001b[0;34m)\u001b[0m\u001b[0;34m\u001b[0m\u001b[0;34m\u001b[0m\u001b[0m\n\u001b[0m",
      "\u001b[0;32m~/anaconda3/envs/openmm/lib/python3.6/site-packages/jax/numpy/lax_numpy.py\u001b[0m in \u001b[0;36mconcatenate\u001b[0;34m(arrays, axis)\u001b[0m\n\u001b[1;32m   2309\u001b[0m   \u001b[0m_check_arraylike\u001b[0m\u001b[0;34m(\u001b[0m\u001b[0;34m\"concatenate\"\u001b[0m\u001b[0;34m,\u001b[0m \u001b[0;34m*\u001b[0m\u001b[0marrays\u001b[0m\u001b[0;34m)\u001b[0m\u001b[0;34m\u001b[0m\u001b[0;34m\u001b[0m\u001b[0m\n\u001b[1;32m   2310\u001b[0m   \u001b[0;32mif\u001b[0m \u001b[0;32mnot\u001b[0m \u001b[0mlen\u001b[0m\u001b[0;34m(\u001b[0m\u001b[0marrays\u001b[0m\u001b[0;34m)\u001b[0m\u001b[0;34m:\u001b[0m\u001b[0;34m\u001b[0m\u001b[0;34m\u001b[0m\u001b[0m\n\u001b[0;32m-> 2311\u001b[0;31m     \u001b[0;32mraise\u001b[0m \u001b[0mValueError\u001b[0m\u001b[0;34m(\u001b[0m\u001b[0;34m\"Need at least one array to concatenate.\"\u001b[0m\u001b[0;34m)\u001b[0m\u001b[0;34m\u001b[0m\u001b[0;34m\u001b[0m\u001b[0m\n\u001b[0m\u001b[1;32m   2312\u001b[0m   \u001b[0;32mif\u001b[0m \u001b[0mndim\u001b[0m\u001b[0;34m(\u001b[0m\u001b[0marrays\u001b[0m\u001b[0;34m[\u001b[0m\u001b[0;36m0\u001b[0m\u001b[0;34m]\u001b[0m\u001b[0;34m)\u001b[0m \u001b[0;34m==\u001b[0m \u001b[0;36m0\u001b[0m\u001b[0;34m:\u001b[0m\u001b[0;34m\u001b[0m\u001b[0;34m\u001b[0m\u001b[0m\n\u001b[1;32m   2313\u001b[0m     \u001b[0;32mraise\u001b[0m \u001b[0mValueError\u001b[0m\u001b[0;34m(\u001b[0m\u001b[0;34m\"Zero-dimensional arrays cannot be concatenated.\"\u001b[0m\u001b[0;34m)\u001b[0m\u001b[0;34m\u001b[0m\u001b[0;34m\u001b[0m\u001b[0m\n",
      "\u001b[0;31mValueError\u001b[0m: Need at least one array to concatenate."
     ]
    }
   ],
   "source": [
    "jnp.concatenate(blank, a)"
   ]
  },
  {
   "cell_type": "code",
   "execution_count": 245,
   "metadata": {},
   "outputs": [],
   "source": [
    "a = jnp.zeros((3,4))"
   ]
  },
  {
   "cell_type": "code",
   "execution_count": 246,
   "metadata": {},
   "outputs": [],
   "source": [
    "b = jnp.ones(4)"
   ]
  },
  {
   "cell_type": "code",
   "execution_count": 249,
   "metadata": {},
   "outputs": [
    {
     "data": {
      "text/plain": [
       "DeviceArray([[0., 0., 0., 0.],\n",
       "             [0., 0., 0., 0.],\n",
       "             [0., 0., 0., 0.],\n",
       "             [1., 1., 1., 1.]], dtype=float32)"
      ]
     },
     "execution_count": 249,
     "metadata": {},
     "output_type": "execute_result"
    }
   ],
   "source": [
    "jnp.vstack((a, b[jnp.newaxis, ...]))"
   ]
  },
  {
   "cell_type": "code",
   "execution_count": 1,
   "metadata": {},
   "outputs": [],
   "source": [
    "a = (1,2)"
   ]
  },
  {
   "cell_type": "code",
   "execution_count": 2,
   "metadata": {},
   "outputs": [
    {
     "data": {
      "text/plain": [
       "(1, 2, 3)"
      ]
     },
     "execution_count": 2,
     "metadata": {},
     "output_type": "execute_result"
    }
   ],
   "source": [
    "a + (3,)"
   ]
  },
  {
   "cell_type": "code",
   "execution_count": null,
   "metadata": {},
   "outputs": [],
   "source": []
  }
 ],
 "metadata": {
  "kernelspec": {
   "display_name": "Python 3",
   "language": "python",
   "name": "python3"
  },
  "language_info": {
   "codemirror_mode": {
    "name": "ipython",
    "version": 3
   },
   "file_extension": ".py",
   "mimetype": "text/x-python",
   "name": "python",
   "nbconvert_exporter": "python",
   "pygments_lexer": "ipython3",
   "version": "3.6.7"
  }
 },
 "nbformat": 4,
 "nbformat_minor": 4
}
