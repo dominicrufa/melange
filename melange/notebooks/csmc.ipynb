{
 "cells": [
  {
   "cell_type": "markdown",
   "metadata": {},
   "source": [
    "cSMC"
   ]
  },
  {
   "cell_type": "code",
   "execution_count": 1,
   "metadata": {},
   "outputs": [],
   "source": [
    "import jax.numpy as jnp\n",
    "from jax import random\n",
    "from jax import grad, vmap, jit\n",
    "from matplotlib import pyplot as plt\n",
    "import seaborn as sns\n",
    "from jax.config import config; config.update(\"jax_enable_x64\", True)\n",
    "%matplotlib inline"
   ]
  },
  {
   "cell_type": "code",
   "execution_count": 36,
   "metadata": {},
   "outputs": [
    {
     "name": "stderr",
     "output_type": "stream",
     "text": [
      "  0%|          | 0/100 [00:00<?, ?it/s]"
     ]
    },
    {
     "name": "stdout",
     "output_type": "stream",
     "text": [
      "the estimated logZ is -0.3494904538572321; the True logZ is -0.3465\n",
      "now doing statistical sample; nom nom\n"
     ]
    },
    {
     "name": "stderr",
     "output_type": "stream",
     "text": [
      "DEBUG:absl:Compiling vSIS_lower_bound for args (ShapedArray(float64[9,1]), ShapedArray(float64[], weak_type=True), ShapedArray(float64[10,1]), ShapedArray(float64[10,1]), ShapedArray(int64[10]), ShapedArray(uint32[2]), ShapedArray(float64[1,1]), ShapedArray(float64[1]), ShapedArray(float64[1,1])).\n",
      "100%|██████████| 100/100 [00:02<00:00, 33.94it/s]\n"
     ]
    }
   ],
   "source": [
    "from melange.tests.utils import get_nondefault_potential_initializer, checker_function\n",
    "from melange.smc import vSIS_lower_bound, SIS, generate_trajs, SIS_logW\n",
    "import tqdm\n",
    "from jax.lax import cond\n",
    "import numpy as np\n",
    "from melange.csmc import *\n",
    "\n",
    "#define some parameters\n",
    "N,T,Dx = 10000, 10, 1\n",
    "potential, (mu, cov), dG = get_nondefault_potential_initializer(Dx)\n",
    "cov = cov[0]\n",
    "dt=1e-2\n",
    "\n",
    "#define some _vanilla_ A, b fns\n",
    "A_fn = lambda x, params: params\n",
    "b_fn = lambda x, params: jnp.zeros(Dx)\n",
    "\n",
    "#create the csmc container object\n",
    "smc_obj= StaticULAControlledSMC(N, \n",
    "                            potential=potential,\n",
    "                            forward_potential=potential, \n",
    "                            backward_potential=potential, \n",
    "                            A_fn = A_fn, #A_fn=lambda x, p: jnp.zeros((Dx, Dx)), \n",
    "                            b_fn = b_fn, #b_fn = lambda x, p: jnp.zeros(Dx),\n",
    "                            A_params_len=1,\n",
    "                            b_params_len=1,\n",
    "                            Dx=1,\n",
    "                            T=T\n",
    "                           ) #create a controlled smc class\n",
    "\n",
    "#create SMC parameters/functions\n",
    "prop, logw, (init_Xs, init_logws) = smc_obj.get_fns() #pull the necessary functions from it\n",
    "potential_params = jnp.linspace(0,1,T)[..., jnp.newaxis] #define the potential parameters\n",
    "\n",
    "prop_params = {\n",
    "               'potential_params': potential_params,\n",
    "               'forward_potential_params': potential_params,\n",
    "               'backward_potential_params': potential_params[1:],\n",
    "               'dt': dt\n",
    "               } #potential parameters dictionary goes here\n",
    "init_params = {'mus': jnp.array([mu]), \n",
    "               'covs': jnp.array([cov]),\n",
    "               'mixture_weights': jnp.array([1.])} #define the initial params\n",
    "model_params=None #there are no model parameters\n",
    "y=jnp.arange(T) #the y data aren't important. just know that there are the same number of them as there are data\n",
    "rs = random.PRNGKey(6) #define a random number \n",
    "\n",
    "#create the trajectories\n",
    "Xs = generate_trajs(prop_params, model_params, y, rs, init_params, init_Xs, prop)\n",
    "logWs = SIS_logW(Xs, prop_params, model_params, y, init_params, logw, init_logws, aggregate_works=False)\n",
    "aggregated_logWs = jnp.cumsum(logWs, axis=0)\n",
    "logZ = logsumexp(aggregated_logWs[-1,:]) - jnp.log(N)\n",
    "print(f\"the estimated logZ is {logZ}; the True logZ is {dG}\")\n",
    "\n",
    "print(f\"now doing statistical sample; nom nom\")\n",
    "from melange.smc import vSIS_lower_bound\n",
    "jvSIS = jit(vSIS_lower_bound, static_argnums=(5,6,7))\n",
    "logZs = []\n",
    "\n",
    "for i in tqdm.trange(100):\n",
    "    rs, run_rs = random.split(rs)\n",
    "    out_logZ = jvSIS(prop_params, model_params, y,  run_rs, init_params, prop, logw, (init_Xs, init_logws))\n",
    "    logZs.append(out_logZ)\n"
   ]
  },
  {
   "cell_type": "code",
   "execution_count": 37,
   "metadata": {},
   "outputs": [
    {
     "data": {
      "text/plain": [
       "<matplotlib.axes._subplots.AxesSubplot at 0x7ff405e3e6d8>"
      ]
     },
     "execution_count": 37,
     "metadata": {},
     "output_type": "execute_result"
    },
    {
     "data": {
      "image/png": "[encoded data removed]",
      "text/plain": [
       "<Figure size 432x288 with 1 Axes>"
      ]
     },
     "metadata": {
      "needs_background": "light"
     },
     "output_type": "display_data"
    }
   ],
   "source": [
    "sns.distplot(logZs)"
   ]
  },
  {
   "cell_type": "markdown",
   "metadata": {},
   "source": [
    "let's see if we can't get the twisting functions..."
   ]
  },
  {
   "cell_type": "code",
   "execution_count": 38,
   "metadata": {},
   "outputs": [
    {
     "name": "stdout",
     "output_type": "stream",
     "text": [
      "dict_keys(['sum_square_diffs', 'loss', 'scipy_loss', 't0_scipy_loss', 'get_callback_fn', 'np_scipy_loss', 'np_t0_scipy_loss', 'np_scipy_loss_grad', 'np_t0_scipy_loss_grad', 'ADP'])\n"
     ]
    }
   ],
   "source": [
    "ADP_dict = smc_obj.get_ADP_fn()\n",
    "print(ADP_dict.keys())\n",
    "ADP_fn = ADP_dict['ADP']"
   ]
  },
  {
   "cell_type": "code",
   "execution_count": 39,
   "metadata": {},
   "outputs": [
    {
     "name": "stderr",
     "output_type": "stream",
     "text": [
      "  0%|          | 0/9 [00:00<?, ?it/s]Level 9:absl:get_compile_options: num_replicas=1 num_partitions=1 device_assignment=(0,)\n",
      "100%|██████████| 9/9 [00:02<00:00,  4.22it/s]\n"
     ]
    }
   ],
   "source": [
    "out_dict = ADP_fn(Xs, logWs, prop_params, verbose=True)"
   ]
  },
  {
   "cell_type": "code",
   "execution_count": 40,
   "metadata": {},
   "outputs": [
    {
     "data": {
      "text/plain": [
       "{'out_A_params': DeviceArray([[0.2411808 ],\n",
       "              [0.21533811],\n",
       "              [0.18930966],\n",
       "              [0.16301932],\n",
       "              [0.13656297],\n",
       "              [0.10978213],\n",
       "              [0.08282571],\n",
       "              [0.0554628 ],\n",
       "              [0.02790665]], dtype=float64),\n",
       " 'out_b_params': DeviceArray([[0.],\n",
       "              [0.],\n",
       "              [0.],\n",
       "              [0.],\n",
       "              [0.],\n",
       "              [0.],\n",
       "              [0.],\n",
       "              [0.],\n",
       "              [0.]], dtype=float64),\n",
       " 'out_A0': DeviceArray([0.23910038], dtype=float64),\n",
       " 'out_b0': DeviceArray([1.96265843e-05], dtype=float64),\n",
       " 'loss_trace': [array([0.0954322 , 0.07760967, 0.03809855]),\n",
       "  array([0.6508939]),\n",
       "  array([0.64992903]),\n",
       "  array([0.62721856]),\n",
       "  array([0.62440323]),\n",
       "  array([0.59485347]),\n",
       "  array([0.55998865]),\n",
       "  array([0.5919984]),\n",
       "  array([0.55580362]),\n",
       "  array([0.5492683])]}"
      ]
     },
     "execution_count": 40,
     "metadata": {},
     "output_type": "execute_result"
    }
   ],
   "source": [
    "out_dict"
   ]
  },
  {
   "cell_type": "markdown",
   "metadata": {},
   "source": [
    "alright, can we update the twisting iteration?"
   ]
  },
  {
   "cell_type": "code",
   "execution_count": 41,
   "metadata": {},
   "outputs": [],
   "source": [
    "smc_obj.update_cSMC(out_dict['out_A_params'], out_dict['out_b_params'], out_dict['out_A0'], out_dict['out_b0'])"
   ]
  },
  {
   "cell_type": "markdown",
   "metadata": {},
   "source": [
    "well that worked. now we have to see if we can run smc again (twisted) and try to observe an improvement"
   ]
  },
  {
   "cell_type": "code",
   "execution_count": 42,
   "metadata": {},
   "outputs": [
    {
     "data": {
      "text/plain": [
       "2"
      ]
     },
     "execution_count": 42,
     "metadata": {},
     "output_type": "execute_result"
    }
   ],
   "source": [
    "smc_obj.twisting_iteration"
   ]
  },
  {
   "cell_type": "code",
   "execution_count": 43,
   "metadata": {},
   "outputs": [
    {
     "name": "stderr",
     "output_type": "stream",
     "text": [
      "  0%|          | 0/100 [00:00<?, ?it/s]DEBUG:absl:Compiling vSIS_lower_bound for args (ShapedArray(float64[9,1]), ShapedArray(float64[], weak_type=True), ShapedArray(float64[10,1]), ShapedArray(float64[10,1]), ShapedArray(int64[10]), ShapedArray(uint32[2]), ShapedArray(float64[1,1]), ShapedArray(float64[1]), ShapedArray(float64[1,1])).\n",
      "100%|██████████| 100/100 [00:03<00:00, 32.27it/s]\n"
     ]
    }
   ],
   "source": [
    "prop, logw, (init_Xs, init_logws) = smc_obj.get_fns() #pull the necessary functions from it\n",
    "twist1_logZs = []\n",
    "\n",
    "for i in tqdm.trange(100):\n",
    "    rs, run_rs = random.split(rs)\n",
    "    out_logZ = jvSIS(prop_params, model_params, y,  run_rs, init_params, prop, logw, (init_Xs, init_logws))\n",
    "    twist1_logZs.append(out_logZ)"
   ]
  },
  {
   "cell_type": "code",
   "execution_count": 44,
   "metadata": {},
   "outputs": [
    {
     "data": {
      "text/plain": [
       "<matplotlib.legend.Legend at 0x7ff3d988a048>"
      ]
     },
     "execution_count": 44,
     "metadata": {},
     "output_type": "execute_result"
    },
    {
     "data": {
      "image/png": "[encoded data removed]",
      "text/plain": [
       "<Figure size 432x288 with 1 Axes>"
      ]
     },
     "metadata": {
      "needs_background": "light"
     },
     "output_type": "display_data"
    }
   ],
   "source": [
    "sns.distplot(logZs, label='twist=0 (uncontrolled)')\n",
    "sns.distplot(twist1_logZs, label='twist=1 (controlled)')\n",
    "plt.xlabel(f\"logZ\")\n",
    "plt.vlines(dG,0,1000, label=f\"True logZ\")\n",
    "plt.ylim(0,1000)\n",
    "plt.legend()"
   ]
  },
  {
   "cell_type": "markdown",
   "metadata": {},
   "source": [
    "now, we have to generate ensemble trajectories and works so that we can twist _again_"
   ]
  },
  {
   "cell_type": "code",
   "execution_count": 45,
   "metadata": {},
   "outputs": [],
   "source": [
    "twist_1_Xs = generate_trajs(prop_params, model_params, y, rs, init_params, init_Xs, prop)\n",
    "twist_1_logWs = SIS_logW(twist_1_Xs, prop_params, model_params, y, init_params, logw, init_logws, aggregate_works=False)"
   ]
  },
  {
   "cell_type": "code",
   "execution_count": 46,
   "metadata": {},
   "outputs": [
    {
     "name": "stdout",
     "output_type": "stream",
     "text": [
      "dict_keys(['sum_square_diffs', 'loss', 'scipy_loss', 't0_scipy_loss', 'get_callback_fn', 'np_scipy_loss', 'np_t0_scipy_loss', 'np_scipy_loss_grad', 'np_t0_scipy_loss_grad', 'ADP'])\n"
     ]
    }
   ],
   "source": [
    "ADP_dict = smc_obj.get_ADP_fn()\n",
    "print(ADP_dict.keys())\n",
    "ADP_fn = ADP_dict['ADP']"
   ]
  },
  {
   "cell_type": "code",
   "execution_count": 47,
   "metadata": {},
   "outputs": [
    {
     "name": "stderr",
     "output_type": "stream",
     "text": [
      "100%|██████████| 9/9 [00:02<00:00,  4.09it/s]\n"
     ]
    }
   ],
   "source": [
    "out_dict = ADP_fn(twist_1_Xs, twist_1_logWs, prop_params, verbose=True)"
   ]
  },
  {
   "cell_type": "code",
   "execution_count": 48,
   "metadata": {},
   "outputs": [
    {
     "data": {
      "text/plain": [
       "{'out_A_params': DeviceArray([[1.14078437],\n",
       "              [0.92719429],\n",
       "              [0.73231083],\n",
       "              [0.55587318],\n",
       "              [0.40075045],\n",
       "              [0.26908349],\n",
       "              [0.16247449],\n",
       "              [0.08182895],\n",
       "              [0.02742049]], dtype=float64),\n",
       " 'out_b_params': DeviceArray([[0.],\n",
       "              [0.],\n",
       "              [0.],\n",
       "              [0.],\n",
       "              [0.],\n",
       "              [0.],\n",
       "              [0.],\n",
       "              [0.],\n",
       "              [0.]], dtype=float64),\n",
       " 'out_A0': DeviceArray([1.21034982], dtype=float64),\n",
       " 'out_b0': DeviceArray([0.0048561], dtype=float64),\n",
       " 'loss_trace': [array([2232.38811346,  821.13728281,  819.6326252 ,  818.34456201,\n",
       "          818.34456201]),\n",
       "  array([651.39607831,  30.73995716]),\n",
       "  array([189.80606019,  24.69034995]),\n",
       "  array([2223.89044803,   18.82275719]),\n",
       "  array([5998.92824669,   15.92329024]),\n",
       "  array([10.63161091]),\n",
       "  array([7.22675448]),\n",
       "  array([4.78205351]),\n",
       "  array([2.68082285]),\n",
       "  array([1.15562279])]}"
      ]
     },
     "execution_count": 48,
     "metadata": {},
     "output_type": "execute_result"
    }
   ],
   "source": [
    "out_dict"
   ]
  },
  {
   "cell_type": "markdown",
   "metadata": {},
   "source": [
    "on a note, its strange that the new A parameters have changed more in this iteration than they have in the previous...i suspect this will be detrimental to the smc logZ estimator. let's find out."
   ]
  },
  {
   "cell_type": "code",
   "execution_count": 49,
   "metadata": {},
   "outputs": [],
   "source": [
    "smc_obj.update_cSMC(out_dict['out_A_params'], out_dict['out_b_params'], out_dict['out_A0'], out_dict['out_b0'])"
   ]
  },
  {
   "cell_type": "code",
   "execution_count": 50,
   "metadata": {},
   "outputs": [
    {
     "name": "stderr",
     "output_type": "stream",
     "text": [
      "  0%|          | 0/100 [00:00<?, ?it/s]DEBUG:absl:Compiling vSIS_lower_bound for args (ShapedArray(float64[9,1]), ShapedArray(float64[], weak_type=True), ShapedArray(float64[10,1]), ShapedArray(float64[10,1]), ShapedArray(int64[10]), ShapedArray(uint32[2]), ShapedArray(float64[1,1]), ShapedArray(float64[1]), ShapedArray(float64[1,1])).\n",
      "100%|██████████| 100/100 [00:03<00:00, 28.93it/s]\n"
     ]
    }
   ],
   "source": [
    "prop, logw, (init_Xs, init_logws) = smc_obj.get_fns() #pull the necessary functions from it\n",
    "twist2_logZs = []\n",
    "\n",
    "for i in tqdm.trange(100):\n",
    "    rs, run_rs = random.split(rs)\n",
    "    out_logZ = jvSIS(prop_params, model_params, y,  run_rs, init_params, prop, logw, (init_Xs, init_logws))\n",
    "    twist2_logZs.append(out_logZ)"
   ]
  },
  {
   "cell_type": "code",
   "execution_count": 51,
   "metadata": {},
   "outputs": [
    {
     "data": {
      "text/plain": [
       "<matplotlib.legend.Legend at 0x7ff3d877add8>"
      ]
     },
     "execution_count": 51,
     "metadata": {},
     "output_type": "execute_result"
    },
    {
     "data": {
      "image/png": "[encoded data removed]",
      "text/plain": [
       "<Figure size 432x288 with 1 Axes>"
      ]
     },
     "metadata": {
      "needs_background": "light"
     },
     "output_type": "display_data"
    }
   ],
   "source": [
    "sns.distplot(logZs, label='twist=0 (uncontrolled)')\n",
    "sns.distplot(twist1_logZs, label='twist=1 (controlled)')\n",
    "sns.distplot(twist2_logZs, label='twist=2 (controlled)')\n",
    "plt.xlabel(f\"logZ\")\n",
    "plt.vlines(dG,0,1000, label=f\"True logZ\")\n",
    "plt.ylim(0,100)\n",
    "plt.legend()"
   ]
  },
  {
   "cell_type": "markdown",
   "metadata": {},
   "source": [
    "so there might be a problem :/"
   ]
  },
  {
   "cell_type": "code",
   "execution_count": null,
   "metadata": {},
   "outputs": [],
   "source": []
  }
 ],
 "metadata": {
  "kernelspec": {
   "display_name": "Python 3",
   "language": "python",
   "name": "python3"
  },
  "language_info": {
   "codemirror_mode": {
    "name": "ipython",
    "version": 3
   },
   "file_extension": ".py",
   "mimetype": "text/x-python",
   "name": "python",
   "nbconvert_exporter": "python",
   "pygments_lexer": "ipython3",
   "version": "3.6.7"
  }
 },
 "nbformat": 4,
 "nbformat_minor": 4
}
