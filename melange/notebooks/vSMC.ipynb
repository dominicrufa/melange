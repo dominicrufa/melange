{
 "cells": [
  {
   "cell_type": "markdown",
   "metadata": {},
   "source": [
    "# variational Sequential Monte Carlo\n",
    "This notebook will serve to troubleshoot the [vSMC](https://arxiv.org/pdf/1705.11140.pdf) algorithm in the _static_ model regime. I will restrict toy examples to prior and posterior models in $\\mathbb{R}^1$.\n",
    "\n",
    "Goals:\n",
    "1. **Basic demo**: show that SIS and SMC yield better $\\log Z$ approximations in the AIS regime as the sequence length increases.\n",
    "2. **vSMC consistent noise regime**: choose a _short_ sequence length where AIS fails to yield $\\log \\hat{Z}$ within a few log units of $\\log Z$ on average and demonstrate that we can improve the ELBO with vSMC."
   ]
  },
  {
   "cell_type": "markdown",
   "metadata": {},
   "source": [
    "melange imports:"
   ]
  },
  {
   "cell_type": "code",
   "execution_count": 1,
   "metadata": {},
   "outputs": [],
   "source": [
    "from jax import random, grad, value_and_grad, jit, vmap\n",
    "from jax import numpy as jnp\n",
    "\n",
    "from melange.smc_objects import StaticULA\n",
    "from melange.smc import *\n",
    "from melange.tests.utils import get_nondefault_potential_initializer, get_default_potential_initializer\n",
    "from melange.tests.utils import checker_function\n",
    "\n",
    "from matplotlib import pyplot as plt\n",
    "import seaborn as sns\n",
    "from seaborn import distplot\n",
    "%matplotlib inline"
   ]
  },
  {
   "cell_type": "markdown",
   "metadata": {},
   "source": [
    "define model potentials and forward potentials (i.e. invariant targets of the forward kernels $K_t(x_{t-1}, x_t)$ ).\n",
    "\n",
    "The prior and posterior distributions ( $\\pi_0$, $\\pi_T$ resp.) will be parameterized as $\\mathcal{N}(x; 0, 0.5)$ and $\\mathcal{N}(x; 5, 0.5)$.\n",
    "\n",
    "The `potential` is defined as $u(x | \\lambda) = (1 - \\lambda)x^2 + \\lambda (x-5)^2$\n",
    "\n",
    "The `v1_forward_potential` is defined as $u(x, \\mathbb{\\lambda}) = (1 - \\lambda_1)x^2 + \\lambda_1 (x-5)^2 + \\lambda_2(x - \\lambda_3)$"
   ]
  },
  {
   "cell_type": "code",
   "execution_count": 2,
   "metadata": {},
   "outputs": [],
   "source": [
    "#define a forward (auxiliary) potential\n",
    "def potential(pos, parameter): #potential will anneal from mean of 0 to 3 (from parameter=0 to 1)\n",
    "    mod_parameter = parameter[0]\n",
    "    x0 = jnp.ones(pos.shape)*5 # at lambda=1, the mean is 3.\n",
    "    return (1. - mod_parameter)*jnp.dot(pos, pos) + mod_parameter*jnp.dot(pos - x0, pos - x0)\n",
    "\n",
    "def v1_forward_potential(pos, parameter):\n",
    "    assert len(parameter) == 3\n",
    "    mod_parameter,aux_mean, aux_scale = parameter\n",
    "    x0 = jnp.ones(pos.shape)*5 # at lambda=1, the mean is 3.\n",
    "    base_potential = (1. - mod_parameter)*jnp.dot(pos, pos) + mod_parameter*jnp.dot(pos - x0, pos - x0)\n",
    "    bias_potential = aux_scale*jnp.dot(pos - jnp.array([aux_mean]), pos - jnp.array([aux_mean]))\n",
    "    return base_potential + bias_potential\n",
    "def v2_forward_potential(pos, parameter):\n",
    "    assert len(parameter)==6\n",
    "    mod_parameter, aux_scales = parameter[0], parameter[1:]\n",
    "    x0 = jnp.ones(pos.shape)*5 # at lambda=1, the mean is 3.\n",
    "    base_potential = (1. - mod_parameter)*jnp.dot(pos, pos) + mod_parameter*jnp.dot(pos - x0, pos - x0)\n",
    "    modifier_scales = jnp.linspace(0., 5., 5)[..., jnp.newaxis]\n",
    "    for idx, val in enumerate(modifier_scales):\n",
    "        base_potential = base_potential + aux_scales[idx]*jnp.dot(pos - val, pos - val)\n",
    "    return base_potential"
   ]
  },
  {
   "cell_type": "markdown",
   "metadata": {},
   "source": [
    "let's run SIS and SMC on N=1000 particles for a range of annealing times in the (approx) AIS regime."
   ]
  },
  {
   "cell_type": "code",
   "execution_count": 3,
   "metadata": {},
   "outputs": [
    {
     "name": "stderr",
     "output_type": "stream",
     "text": [
      "/home/dominic/anaconda3/envs/openmm/lib/python3.6/site-packages/jax/lib/xla_bridge.py:130: UserWarning: No GPU/TPU found, falling back to CPU.\n",
      "  warnings.warn('No GPU/TPU found, falling back to CPU.')\n",
      "100%|██████████| 100/100 [00:04<00:00, 23.53it/s]\n",
      "100%|██████████| 100/100 [00:04<00:00, 24.47it/s]\n",
      "100%|██████████| 100/100 [00:04<00:00, 22.03it/s]\n",
      "100%|██████████| 100/100 [00:05<00:00, 19.30it/s]\n",
      "100%|██████████| 100/100 [00:07<00:00, 14.26it/s]\n",
      "100%|██████████| 100/100 [00:09<00:00, 10.37it/s]\n",
      "100%|██████████| 100/100 [00:15<00:00,  6.47it/s]\n"
     ]
    }
   ],
   "source": [
    "from melange.tests.utils import get_default_potential_initializer\n",
    "from melange.smc import vSIS_lower_bound, vSMC_lower_bound\n",
    "from melange.smc_objects import StaticULA\n",
    "import tqdm\n",
    "\n",
    "N,Dx = 1000, 1\n",
    "pot, (mu, cov), dG = get_default_potential_initializer(1)\n",
    "smc_obj= StaticULA(N, potential=potential, forward_potential=potential, backward_potential=potential)\n",
    "prop, logw, inits = smc_obj.get_fns()\n",
    "\n",
    "jSIS = jit(vSIS_lower_bound, static_argnums=(5,6,7))\n",
    "jSMC = jit(vSMC_lower_bound, static_argnums=(5,6,7))\n",
    "\n",
    "model_params=None\n",
    "\n",
    "rs = random.PRNGKey(10)\n",
    "\n",
    "_all_SIS_logZs, _all_SMC_logZs = [], []\n",
    "\n",
    "T_sequence = jnp.array([5,10,50,100,250,500,1000])\n",
    "\n",
    "for T in T_sequence:\n",
    "    rs, run_rs = random.split(rs)\n",
    "    \n",
    "    potential_params = jnp.linspace(0,1,T)[..., jnp.newaxis]\n",
    "    forward_potential_params = potential_params\n",
    "    backward_potential_params = potential_params[1:]\n",
    "    forward_dts = 1e-2*jnp.ones(T)\n",
    "    backward_dts=1e-2*jnp.ones(T)\n",
    "    y=jnp.zeros(T)\n",
    "    prop_params = (potential_params, forward_potential_params, backward_potential_params, forward_dts, backward_dts)\n",
    "    \n",
    "    SIS_reps = []\n",
    "    SMC_reps = []\n",
    "    \n",
    "    for rep_id in tqdm.trange(100):\n",
    "        rs, run_rs, run_aux_rs = random.split(rs, 3)\n",
    "        SIS_logZ =jSIS(prop_params, model_params, y,  run_rs, (mu, cov), prop, logw, inits)\n",
    "        SMC_logZ = jSMC(prop_params, model_params, y,  run_aux_rs, (mu, cov), prop, logw, inits)\n",
    "        SIS_reps.append(SIS_logZ)\n",
    "        SMC_reps.append(SMC_logZ)\n",
    "    \n",
    "    SIS_reps = jnp.array(SIS_reps)\n",
    "    SMC_reps = jnp.array(SMC_reps)\n",
    "    \n",
    "    _all_SIS_logZs.append([SIS_reps.mean(), SIS_reps.std()])\n",
    "    _all_SMC_logZs.append([SMC_reps.mean(), SMC_reps.std()])"
   ]
  },
  {
   "cell_type": "code",
   "execution_count": 4,
   "metadata": {},
   "outputs": [],
   "source": [
    "_all_SIS_logZs = jnp.array(_all_SIS_logZs)\n",
    "_all_SMC_logZs = jnp.array(_all_SMC_logZs)"
   ]
  },
  {
   "cell_type": "code",
   "execution_count": 5,
   "metadata": {},
   "outputs": [
    {
     "data": {
      "text/plain": [
       "<matplotlib.legend.Legend at 0x7ff421159160>"
      ]
     },
     "execution_count": 5,
     "metadata": {},
     "output_type": "execute_result"
    },
    {
     "data": {
      "image/png": "[encoded data removed]",
      "text/plain": [
       "<Figure size 432x288 with 1 Axes>"
      ]
     },
     "metadata": {
      "needs_background": "light"
     },
     "output_type": "display_data"
    }
   ],
   "source": [
    "plt.errorbar(T_sequence, _all_SIS_logZs[:,0], yerr = _all_SIS_logZs[:,1], marker='o', label = f\"SIS\")\n",
    "plt.errorbar(T_sequence, _all_SMC_logZs[:,0], yerr = _all_SMC_logZs[:,1], marker='o', label = f\"SMC\")\n",
    "plt.xscale(f\"log\")\n",
    "plt.hlines(0, 5, 2000, label = \"$\\log Z_T$\")\n",
    "plt.xlabel(f\"sequence length\")\n",
    "plt.ylabel(\"$\\log \\hat{Z_T}$\")\n",
    "plt.xlim(5, 2000)\n",
    "plt.legend(loc=4)"
   ]
  },
  {
   "cell_type": "markdown",
   "metadata": {},
   "source": [
    "it looks like we are underestimating the _True_ $log Z_T$ by several log units at a sequence length of 50 in both SMC and SIS regimes.\n",
    "\n",
    "Let's start in the _near_ AIS (with SIS) regime with the `v2_forward_kernel` parameterizing the forward kernels, attempt to take gradient steps in the direction that maximized the $\\log \\hat{Z_T}$. In principle, if the parameterizable family is sufficiently large, we should be able to converge to the _True_ $\\log Z$."
   ]
  },
  {
   "cell_type": "code",
   "execution_count": 8,
   "metadata": {},
   "outputs": [
    {
     "name": "stderr",
     "output_type": "stream",
     "text": [
      "100%|██████████| 1000/1000 [00:26<00:00, 38.03it/s]\n"
     ]
    }
   ],
   "source": [
    "smc_obj= StaticULA(500, potential=potential, forward_potential=v2_forward_potential, backward_potential=potential)\n",
    "prop, logw, inits = smc_obj.get_fns()\n",
    "\n",
    "T=100\n",
    "\n",
    "\n",
    "potential_params = jnp.linspace(0,1,T)[..., jnp.newaxis]\n",
    "forward_potential_params = jnp.stack((jnp.linspace(0,1,T), jnp.zeros(T), jnp.zeros(T), jnp.zeros(T), jnp.zeros(T), jnp.zeros(T)),1)\n",
    "#forward_potential_params = jnp.stack((jnp.linspace(0,1,T), jnp.zeros(T), jnp.zeros(T)), 1)\n",
    "backward_potential_params = jnp.linspace(0,1,T)[..., jnp.newaxis][1:]\n",
    "forward_dts = 1e-2*jnp.ones(T)\n",
    "backward_dts=1e-2*jnp.ones(T)\n",
    "y=jnp.zeros(T)\n",
    "\n",
    "objective = jit(value_and_grad(vSIS_lower_bound), static_argnums=(5,6,7))\n",
    "step_size=0.05\n",
    "prop_params = (potential_params, forward_potential_params, backward_potential_params, forward_dts, backward_dts)\n",
    "\n",
    "losses = []\n",
    "grads = []\n",
    "\n",
    "rs = random.PRNGKey(10)\n",
    "for iteration in tqdm.trange(1000):\n",
    "    rs, run_rs = random.split(rs)\n",
    "    logZ, gradval = objective(prop_params, model_params, y,  run_rs, (mu, cov), prop, logw, inits)\n",
    "    (potential_params, forward_potential_params, backward_potential_params, forward_dts, backward_dts) = prop_params\n",
    "    forward_potential_params = forward_potential_params + step_size*gradval[1]\n",
    "    prop_params = (potential_params, forward_potential_params, backward_potential_params, forward_dts, backward_dts)\n",
    "    losses.append(logZ)\n",
    "    grads.append(gradval[1])\n",
    "    \n",
    "    "
   ]
  },
  {
   "cell_type": "code",
   "execution_count": 9,
   "metadata": {},
   "outputs": [
    {
     "data": {
      "text/plain": [
       "<matplotlib.legend.Legend at 0x7ff3f217e4e0>"
      ]
     },
     "execution_count": 9,
     "metadata": {},
     "output_type": "execute_result"
    },
    {
     "data": {
      "image/png": "[encoded data removed]",
      "text/plain": [
       "<Figure size 432x288 with 1 Axes>"
      ]
     },
     "metadata": {
      "needs_background": "light"
     },
     "output_type": "display_data"
    }
   ],
   "source": [
    "plt.plot(losses)\n",
    "plt.xlabel(f\"training iteration\")\n",
    "plt.ylabel(f\"ELBO\")\n",
    "plt.hlines(0, 500, 0, label = \"$\\log Z_T$\")\n",
    "plt.xlim(0,500)\n",
    "plt.legend()"
   ]
  },
  {
   "cell_type": "markdown",
   "metadata": {},
   "source": [
    "so, it would look like we can converge in ~100 retrains, and while there is clearly an improvement, the ELBO is certainly noisy.\n",
    "\n",
    "There's a few potential ways to reduce noise; next, I will attempt to reduce the noise with a few tricks..."
   ]
  },
  {
   "cell_type": "code",
   "execution_count": null,
   "metadata": {},
   "outputs": [],
   "source": []
  }
 ],
 "metadata": {
  "kernelspec": {
   "display_name": "Python 3",
   "language": "python",
   "name": "python3"
  },
  "language_info": {
   "codemirror_mode": {
    "name": "ipython",
    "version": 3
   },
   "file_extension": ".py",
   "mimetype": "text/x-python",
   "name": "python",
   "nbconvert_exporter": "python",
   "pygments_lexer": "ipython3",
   "version": "3.6.7"
  }
 },
 "nbformat": 4,
 "nbformat_minor": 4
}
