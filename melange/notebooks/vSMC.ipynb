{
 "cells": [
  {
   "cell_type": "markdown",
   "metadata": {},
   "source": [
    "# variational Sequential Monte Carlo\n",
    "This notebook will serve to troubleshoot the [vSMC](https://arxiv.org/pdf/1705.11140.pdf) algorithm in the _static_ model regime. I will restrict toy examples to prior and posterior models in $\\mathbb{R}^1$.\n",
    "\n",
    "Goals:\n",
    "1. **Basic demo**: show that SIS and SMC yield better $\\log Z$ approximations in the AIS regime as the sequence length increases.\n",
    "2. **vSMC consistent noise regime**: choose a _short_ sequence length where AIS fails to yield $\\log \\hat{Z}$ within a few log units of $\\log Z$ on average and demonstrate that we can improve the ELBO with vSMC."
   ]
  },
  {
   "cell_type": "markdown",
   "metadata": {},
   "source": [
    "melange imports:"
   ]
  },
  {
   "cell_type": "code",
   "execution_count": 1,
   "metadata": {},
   "outputs": [],
   "source": [
    "from jax import random, grad, value_and_grad, jit, vmap\n",
    "from jax import numpy as jnp\n",
    "\n",
    "from melange.smc_objects import StaticULA\n",
    "from melange.smc import *\n",
    "from melange.tests.utils import get_nondefault_potential_initializer, get_default_potential_initializer\n",
    "from melange.tests.utils import checker_function\n",
    "\n",
    "from matplotlib import pyplot as plt\n",
    "import seaborn as sns\n",
    "from seaborn import distplot\n",
    "%matplotlib inline"
   ]
  },
  {
   "cell_type": "markdown",
   "metadata": {},
   "source": [
    "define model potentials and forward potentials (i.e. invariant targets of the forward kernels $K_t(x_{t-1}, x_t)$ ).\n",
    "\n",
    "The prior and posterior distributions ( $\\pi_0$, $\\pi_T$ resp.) will be parameterized as $\\mathcal{N}(x; 0, 0.5)$ and $\\mathcal{N}(x; 5, 0.5)$.\n",
    "\n",
    "The `potential` is defined as $u(x | \\lambda) = (1 - \\lambda)x^2 + \\lambda (x-5)^2$.\n",
    "\n",
    "The `forward_potential` will be a simple parameterizable neural network potential."
   ]
  },
  {
   "cell_type": "code",
   "execution_count": 2,
   "metadata": {},
   "outputs": [],
   "source": [
    "#define a forward (auxiliary) potential\n",
    "def potential(pos, parameter): #potential will anneal from mean of 0 to 3 (from parameter=0 to 1)\n",
    "    mod_parameter = parameter[0]\n",
    "    x0 = jnp.ones(pos.shape)*5 # at lambda=1, the mean is 3.\n",
    "    return (1. - mod_parameter)*jnp.dot(pos, pos) + mod_parameter*jnp.dot(pos - x0, pos - x0)"
   ]
  },
  {
   "cell_type": "markdown",
   "metadata": {},
   "source": [
    "define the neural network `forward_potential`"
   ]
  },
  {
   "cell_type": "code",
   "execution_count": 14,
   "metadata": {},
   "outputs": [],
   "source": [
    "from melange.nn import *\n",
    "nn_shapes = [1,3,3,3]\n",
    "template_nn_params = init_network_params(nn_shapes, None)\n",
    "nn_param_array = arrayize_nn_params(template_nn_params)\n",
    "nn_potential = simple_nnpotential_generator(potential, sigmoid_nn_potential, 1, template_nn_params)\n",
    "nn_param_length = len(nn_param_array)"
   ]
  },
  {
   "cell_type": "markdown",
   "metadata": {},
   "source": [
    "let's run SIS and SMC on N=1000 particles for a range of annealing times in the (approx) AIS regime."
   ]
  },
  {
   "cell_type": "code",
   "execution_count": 12,
   "metadata": {},
   "outputs": [],
   "source": [
    "from melange.tests.utils import get_default_potential_initializer\n",
    "from melange.smc import vSIS_lower_bound, vSMC_lower_bound\n",
    "from melange.smc_objects import StaticULA\n",
    "import tqdm"
   ]
  },
  {
   "cell_type": "code",
   "execution_count": 5,
   "metadata": {},
   "outputs": [
    {
     "name": "stderr",
     "output_type": "stream",
     "text": [
      "100%|██████████| 100/100 [00:10<00:00,  9.82it/s]\n",
      "100%|██████████| 100/100 [00:09<00:00, 10.92it/s]\n",
      "100%|██████████| 100/100 [00:09<00:00, 11.08it/s]\n",
      "100%|██████████| 100/100 [00:09<00:00, 10.58it/s]\n",
      "100%|██████████| 100/100 [00:12<00:00,  7.87it/s]\n",
      "100%|██████████| 100/100 [00:17<00:00,  5.87it/s]\n",
      "100%|██████████| 100/100 [00:27<00:00,  3.63it/s]\n"
     ]
    }
   ],
   "source": [
    "N,Dx = 1000, 1\n",
    "_, (mu, cov), dG = get_default_potential_initializer(1)\n",
    "smc_obj= StaticULA(N, potential=potential, forward_potential=potential, backward_potential=potential)\n",
    "prop, logw, inits = smc_obj.get_fns()\n",
    "\n",
    "jSIS = jit(vSIS_lower_bound, static_argnums=(5,6,7))\n",
    "jSMC = jit(vSMC_lower_bound, static_argnums=(5,6,7))\n",
    "\n",
    "model_params=None\n",
    "\n",
    "rs = random.PRNGKey(10)\n",
    "\n",
    "_all_SIS_logZs, _all_SMC_logZs = [], []\n",
    "\n",
    "T_sequence = jnp.array([5,10,50,100,250,500,1000])\n",
    "\n",
    "for T in T_sequence:\n",
    "    rs, run_rs = random.split(rs)\n",
    "    \n",
    "    potential_params = jnp.linspace(0,1,T)[..., jnp.newaxis]\n",
    "    forward_potential_params = potential_params\n",
    "    backward_potential_params = potential_params[1:]\n",
    "    forward_dts = 1e-2*jnp.ones(T)\n",
    "    backward_dts=1e-2*jnp.ones(T)\n",
    "    y=jnp.zeros(T)\n",
    "    prop_params = {'potential_params': potential_params,\n",
    "               'forward_potential_params': potential_params,\n",
    "               'backward_potential_params': potential_params[1:],\n",
    "               'dt': 1e-2\n",
    "               }\n",
    "    init_params = {'mu': mu, 'cov': cov}\n",
    "    \n",
    "    SIS_reps = []\n",
    "    SMC_reps = []\n",
    "    \n",
    "    for rep_id in tqdm.trange(100):\n",
    "        rs, run_rs, run_aux_rs = random.split(rs, 3)\n",
    "        SIS_logZ =jSIS(prop_params, model_params, y,  run_rs, init_params, prop, logw, inits)\n",
    "        SMC_logZ = jSMC(prop_params, model_params, y,  run_aux_rs, init_params, prop, logw, inits)\n",
    "        SIS_reps.append(SIS_logZ)\n",
    "        SMC_reps.append(SMC_logZ)\n",
    "    \n",
    "    SIS_reps = jnp.array(SIS_reps)\n",
    "    SMC_reps = jnp.array(SMC_reps)\n",
    "    \n",
    "    _all_SIS_logZs.append([SIS_reps.mean(), SIS_reps.std()])\n",
    "    _all_SMC_logZs.append([SMC_reps.mean(), SMC_reps.std()])"
   ]
  },
  {
   "cell_type": "code",
   "execution_count": 6,
   "metadata": {},
   "outputs": [],
   "source": [
    "_all_SIS_logZs = jnp.array(_all_SIS_logZs)\n",
    "_all_SMC_logZs = jnp.array(_all_SMC_logZs)"
   ]
  },
  {
   "cell_type": "code",
   "execution_count": 7,
   "metadata": {},
   "outputs": [
    {
     "data": {
      "text/plain": [
       "<matplotlib.legend.Legend at 0x7f45fdfbd748>"
      ]
     },
     "execution_count": 7,
     "metadata": {},
     "output_type": "execute_result"
    },
    {
     "data": {
      "image/png": "[encoded data removed]",
      "text/plain": [
       "<Figure size 432x288 with 1 Axes>"
      ]
     },
     "metadata": {
      "needs_background": "light"
     },
     "output_type": "display_data"
    }
   ],
   "source": [
    "plt.errorbar(T_sequence, _all_SIS_logZs[:,0], yerr = _all_SIS_logZs[:,1], marker='o', label = f\"SIS\")\n",
    "plt.errorbar(T_sequence, _all_SMC_logZs[:,0], yerr = _all_SMC_logZs[:,1], marker='o', label = f\"SMC\")\n",
    "plt.xscale(f\"log\")\n",
    "plt.hlines(0, 5, 2000, label = \"$\\log Z_T$\")\n",
    "plt.xlabel(f\"sequence length\")\n",
    "plt.ylabel(\"$\\log \\hat{Z_T}$\")\n",
    "plt.xlim(5, 2000)\n",
    "plt.legend(loc=4)"
   ]
  },
  {
   "cell_type": "markdown",
   "metadata": {},
   "source": [
    "it looks like we are underestimating the _True_ $log Z_T$ by several log units at a sequence length of 50 in both SMC and SIS regimes.\n",
    "\n",
    "Let's start in the _near_ AIS (with SIS) regime with the `simple_neural_network_potential` parameterizing the forward kernels, attempt to take gradient steps in the direction that maximized the $\\log \\hat{Z_T}$. In principle, if the parameterizable family is sufficiently large, we should be able to converge to the _True_ $\\log Z$. "
   ]
  },
  {
   "cell_type": "code",
   "execution_count": 18,
   "metadata": {},
   "outputs": [
    {
     "name": "stderr",
     "output_type": "stream",
     "text": [
      "100%|██████████| 2000/2000 [01:28<00:00, 22.53it/s]\n"
     ]
    }
   ],
   "source": [
    "from melange.nn import init_network_params\n",
    "smc_obj= StaticULA(500, potential=potential, forward_potential=nn_potential, backward_potential=potential)\n",
    "prop, logw, inits = smc_obj.get_fns()\n",
    "\n",
    "T=100\n",
    "potential_params = jnp.linspace(0,1,T)[..., jnp.newaxis]\n",
    "#forward_potential_params = [[i, init_network_params([1,3,3], None)] for i in np.linspace(0,1,T)]\n",
    "#forward_potential_params = jnp.stack((jnp.linspace(0,1,T), jnp.zeros(T), jnp.zeros(T), jnp.zeros(T), jnp.zeros(T), jnp.zeros(T)),1)\n",
    "#forward_potential_params = jnp.stack((jnp.linspace(0,1,T), jnp.zeros(T), jnp.zeros(T)), 1)\n",
    "forward_potential_params = jnp.append(jnp.linspace(0,1,100)[..., jnp.newaxis], jnp.zeros((100, nn_param_length)), axis=1)\n",
    "backward_potential_params = jnp.linspace(0,1,T)[..., jnp.newaxis][1:]\n",
    "y=jnp.zeros(T)\n",
    "\n",
    "objective = jit(value_and_grad(vSIS_lower_bound), static_argnums=(5,6,7))\n",
    "#objective=vSIS_lower_bound\n",
    "step_size=0.05\n",
    "prop_params = {'potential_params': potential_params,\n",
    "           'forward_potential_params': forward_potential_params,\n",
    "           'backward_potential_params': backward_potential_params,\n",
    "           'dt': 1e-2}\n",
    "\n",
    "init_params = {'mu': mu, 'cov': cov}\n",
    "\n",
    "losses = []\n",
    "grads = []\n",
    "\n",
    "rs = random.PRNGKey(10)\n",
    "for iteration in tqdm.trange(2000):\n",
    "    rs, run_rs = random.split(rs)\n",
    "    logZ, gradval = objective(prop_params, model_params, y,  run_rs, init_params, prop, logw, inits)\n",
    "    #out = objective(prop_params, model_params, y,  run_rs, init_params, prop, logw, inits)\n",
    "    forward_potential_param_grads = gradval['forward_potential_params']\n",
    "    prop_params['forward_potential_params'] = prop_params['forward_potential_params'] + step_size*forward_potential_param_grads\n",
    "    losses.append(logZ)\n",
    "    grads.append(forward_potential_param_grads)\n",
    "    \n",
    "    "
   ]
  },
  {
   "cell_type": "code",
   "execution_count": 19,
   "metadata": {},
   "outputs": [
    {
     "data": {
      "text/plain": [
       "<matplotlib.legend.Legend at 0x7f450c72d6a0>"
      ]
     },
     "execution_count": 19,
     "metadata": {},
     "output_type": "execute_result"
    },
    {
     "data": {
      "image/png": "[encoded data removed]",
      "text/plain": [
       "<Figure size 432x288 with 1 Axes>"
      ]
     },
     "metadata": {
      "needs_background": "light"
     },
     "output_type": "display_data"
    }
   ],
   "source": [
    "plt.plot(losses)\n",
    "plt.xlabel(f\"training iteration\")\n",
    "plt.ylabel(f\"ELBO\")\n",
    "plt.hlines(0, 2000, 0, label = \"$\\log Z_T$\")\n",
    "plt.xlim(0,2000)\n",
    "plt.legend()"
   ]
  },
  {
   "cell_type": "markdown",
   "metadata": {},
   "source": [
    "so, it would look like we can converge in ~100 retrains, and while there is clearly an improvement, the ELBO is certainly noisy.\n",
    "\n",
    "There's a few potential ways to reduce noise; next, I will attempt to reduce the noise with a few tricks..."
   ]
  }
 ],
 "metadata": {
  "kernelspec": {
   "display_name": "Python 3",
   "language": "python",
   "name": "python3"
  },
  "language_info": {
   "codemirror_mode": {
    "name": "ipython",
    "version": 3
   },
   "file_extension": ".py",
   "mimetype": "text/x-python",
   "name": "python",
   "nbconvert_exporter": "python",
   "pygments_lexer": "ipython3",
   "version": "3.6.7"
  }
 },
 "nbformat": 4,
 "nbformat_minor": 4
}
